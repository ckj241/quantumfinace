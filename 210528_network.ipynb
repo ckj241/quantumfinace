{
  "nbformat": 4,
  "nbformat_minor": 0,
  "metadata": {
    "colab": {
      "name": "210528_network.ipynb",
      "provenance": [],
      "collapsed_sections": [],
      "authorship_tag": "ABX9TyPCIzwZO+IZHw6AmPpDjhWP",
      "include_colab_link": true
    },
    "kernelspec": {
      "display_name": "Python 3",
      "name": "python3"
    },
    "language_info": {
      "name": "python"
    }
  },
  "cells": [
    {
      "cell_type": "markdown",
      "metadata": {
        "id": "view-in-github",
        "colab_type": "text"
      },
      "source": [
        "<a href=\"https://colab.research.google.com/github/ckj241/quantumfinance/blob/master/210528_network.ipynb\" target=\"_parent\"><img src=\"https://colab.research.google.com/assets/colab-badge.svg\" alt=\"Open In Colab\"/></a>"
      ]
    },
    {
      "cell_type": "code",
      "metadata": {
        "id": "GSu8GC19Xyme"
      },
      "source": [
        "from newspaper import fulltext\n",
        "import requests"
      ],
      "execution_count": null,
      "outputs": []
    },
    {
      "cell_type": "code",
      "metadata": {
        "colab": {
          "base_uri": "https://localhost:8080/"
        },
        "id": "r2Pi9qyWoshp",
        "outputId": "09794ddc-c948-4aef-d95c-9ef6b5300a37"
      },
      "source": [
        "!pip3 install news-please"
      ],
      "execution_count": null,
      "outputs": [
        {
          "output_type": "stream",
          "text": [
            "Collecting news-please\n",
            "\u001b[?25l  Downloading https://files.pythonhosted.org/packages/46/82/69d3d741cdb0abf878a431486c629eaaf0927cc653a7b6449f1cae25b52e/news-please-1.5.21.tar.gz (67kB)\n",
            "\u001b[K     |████████████████████████████████| 71kB 1.7MB/s \n",
            "\u001b[?25hCollecting Scrapy>=1.1.0\n",
            "\u001b[?25l  Downloading https://files.pythonhosted.org/packages/95/68/0e84466f83ed7d57b0da402bef1bb33a030224a64523a744de2abb8595f4/Scrapy-2.5.0-py2.py3-none-any.whl (254kB)\n",
            "\u001b[K     |████████████████████████████████| 256kB 4.3MB/s \n",
            "\u001b[?25hCollecting PyMySQL>=0.7.9\n",
            "\u001b[?25l  Downloading https://files.pythonhosted.org/packages/4f/52/a115fe175028b058df353c5a3d5290b71514a83f67078a6482cff24d6137/PyMySQL-1.0.2-py3-none-any.whl (43kB)\n",
            "\u001b[K     |████████████████████████████████| 51kB 4.3MB/s \n",
            "\u001b[?25hCollecting psycopg2-binary>=2.8.4\n",
            "\u001b[?25l  Downloading https://files.pythonhosted.org/packages/6d/45/c519a5cfac05e14b1ccb242138915855293199840598e087b935ba1d86bc/psycopg2_binary-2.8.6-cp37-cp37m-manylinux1_x86_64.whl (3.0MB)\n",
            "\u001b[K     |████████████████████████████████| 3.0MB 20.3MB/s \n",
            "\u001b[?25hCollecting hjson>=1.5.8\n",
            "\u001b[?25l  Downloading https://files.pythonhosted.org/packages/74/da/f7c0e3407f1f600326ff762373f57971a16b771435736b70ce9c24fbe761/hjson-3.0.2-py3-none-any.whl (54kB)\n",
            "\u001b[K     |████████████████████████████████| 61kB 5.5MB/s \n",
            "\u001b[?25hCollecting elasticsearch>=2.4\n",
            "\u001b[?25l  Downloading https://files.pythonhosted.org/packages/0c/94/8af17aa11ea60dac63adbe51ca097263e4c4a164a44d7044632d21ee5d0c/elasticsearch-7.13.0-py2.py3-none-any.whl (354kB)\n",
            "\u001b[K     |████████████████████████████████| 358kB 37.8MB/s \n",
            "\u001b[?25hRequirement already satisfied: beautifulsoup4>=4.3.2 in /usr/local/lib/python3.7/dist-packages (from news-please) (4.9.3)\n",
            "Collecting readability-lxml>=0.6.2\n",
            "  Downloading https://files.pythonhosted.org/packages/39/a6/cfe22aaa19ac69b97d127043a76a5bbcb0ef24f3a0b22793c46608190caa/readability_lxml-0.8.1-py3-none-any.whl\n",
            "Requirement already satisfied: newspaper3k>=0.2.8 in /usr/local/lib/python3.7/dist-packages (from news-please) (0.2.8)\n",
            "Collecting langdetect>=1.0.7\n",
            "\u001b[?25l  Downloading https://files.pythonhosted.org/packages/0e/72/a3add0e4eec4eb9e2569554f7c70f4a3c27712f40e3284d483e88094cc0e/langdetect-1.0.9.tar.gz (981kB)\n",
            "\u001b[K     |████████████████████████████████| 983kB 36.4MB/s \n",
            "\u001b[?25hRequirement already satisfied: python-dateutil>=2.4.0 in /usr/local/lib/python3.7/dist-packages (from news-please) (2.8.1)\n",
            "Requirement already satisfied: plac>=0.9.6 in /usr/local/lib/python3.7/dist-packages (from news-please) (1.1.3)\n",
            "Collecting dotmap>=1.2.17\n",
            "  Downloading https://files.pythonhosted.org/packages/17/6f/c94adbb0e6d418ededbf1082a3067f178fb012573b960d446e5655e6fbe1/dotmap-1.3.23-py3-none-any.whl\n",
            "Collecting PyDispatcher>=2.0.5\n",
            "  Downloading https://files.pythonhosted.org/packages/cd/37/39aca520918ce1935bea9c356bcbb7ed7e52ad4e31bff9b943dfc8e7115b/PyDispatcher-2.0.5.tar.gz\n",
            "Collecting warcio>=1.3.3\n",
            "\u001b[?25l  Downloading https://files.pythonhosted.org/packages/24/eb/060b7e1c76abf24692784d5cf9c52ec05ff21249c88515d7f03c676434db/warcio-1.7.4-py2.py3-none-any.whl (40kB)\n",
            "\u001b[K     |████████████████████████████████| 40kB 3.5MB/s \n",
            "\u001b[?25hCollecting ago>=0.0.9\n",
            "  Downloading https://files.pythonhosted.org/packages/f8/4e/976bd88566b0feec295873c3aa5a8712219edb2c07c7f6723c831e8840bd/ago-0.0.93.tar.gz\n",
            "Requirement already satisfied: six>=1.10.0 in /usr/local/lib/python3.7/dist-packages (from news-please) (1.15.0)\n",
            "Requirement already satisfied: lxml>=3.3.5 in /usr/local/lib/python3.7/dist-packages (from news-please) (4.2.6)\n",
            "Collecting awscli>=1.11.117\n",
            "\u001b[?25l  Downloading https://files.pythonhosted.org/packages/62/b7/dc689e218b411b81b97636ce5c74190d25611956a325c7908b28a29fdd05/awscli-1.19.84-py2.py3-none-any.whl (3.6MB)\n",
            "\u001b[K     |████████████████████████████████| 3.6MB 41.9MB/s \n",
            "\u001b[?25hCollecting hurry.filesize>=0.9\n",
            "  Downloading https://files.pythonhosted.org/packages/ee/5e/16e17bedcf54d5b618dc0771690deda77178e5c310402881c3d2d6c5f27c/hurry.filesize-0.9.tar.gz\n",
            "Requirement already satisfied: bs4 in /usr/local/lib/python3.7/dist-packages (from news-please) (0.0.1)\n",
            "Collecting cchardet>=2.1.7\n",
            "\u001b[?25l  Downloading https://files.pythonhosted.org/packages/80/72/a4fba7559978de00cf44081c548c5d294bf00ac7dcda2db405d2baa8c67a/cchardet-2.1.7-cp37-cp37m-manylinux2010_x86_64.whl (263kB)\n",
            "\u001b[K     |████████████████████████████████| 266kB 25.4MB/s \n",
            "\u001b[?25hCollecting itemloaders>=1.0.1\n",
            "  Downloading https://files.pythonhosted.org/packages/b3/2b/eb2ddf7becf834679273a6f79ffdc6fbedf07c5272e2eddf412582143c0e/itemloaders-1.0.4-py3-none-any.whl\n",
            "Collecting cryptography>=2.0\n",
            "\u001b[?25l  Downloading https://files.pythonhosted.org/packages/b2/26/7af637e6a7e87258b963f1731c5982fb31cd507f0d90d91836e446955d02/cryptography-3.4.7-cp36-abi3-manylinux2014_x86_64.whl (3.2MB)\n",
            "\u001b[K     |████████████████████████████████| 3.2MB 39.6MB/s \n",
            "\u001b[?25hCollecting w3lib>=1.17.0\n",
            "  Downloading https://files.pythonhosted.org/packages/a3/59/b6b14521090e7f42669cafdb84b0ab89301a42f1f1a82fcf5856661ea3a7/w3lib-1.22.0-py2.py3-none-any.whl\n",
            "Collecting protego>=0.1.15\n",
            "\u001b[?25l  Downloading https://files.pythonhosted.org/packages/db/6e/bf6d5e4d7cf233b785719aaec2c38f027b9c2ed980a0015ec1a1cced4893/Protego-0.1.16.tar.gz (3.2MB)\n",
            "\u001b[K     |████████████████████████████████| 3.2MB 37.5MB/s \n",
            "\u001b[?25hCollecting zope.interface>=4.1.3\n",
            "\u001b[?25l  Downloading https://files.pythonhosted.org/packages/bb/a7/94e1a92c71436f934cdd2102826fa041c83dcb7d21dd0f1fb1a57f6e0620/zope.interface-5.4.0-cp37-cp37m-manylinux2010_x86_64.whl (251kB)\n",
            "\u001b[K     |████████████████████████████████| 256kB 46.5MB/s \n",
            "\u001b[?25hCollecting service-identity>=16.0.0\n",
            "  Downloading https://files.pythonhosted.org/packages/93/5a/5e93f280ec7be676b5a57f305350f439d31ced168bca04e6ffa64b575664/service_identity-21.1.0-py2.py3-none-any.whl\n",
            "Collecting h2<4.0,>=3.0\n",
            "\u001b[?25l  Downloading https://files.pythonhosted.org/packages/25/de/da019bcc539eeab02f6d45836f23858ac467f584bfec7a526ef200242afe/h2-3.2.0-py2.py3-none-any.whl (65kB)\n",
            "\u001b[K     |████████████████████████████████| 71kB 8.2MB/s \n",
            "\u001b[?25hCollecting pyOpenSSL>=16.2.0\n",
            "\u001b[?25l  Downloading https://files.pythonhosted.org/packages/b2/5e/06351ede29fd4899782ad335c2e02f1f862a887c20a3541f17c3fa1a3525/pyOpenSSL-20.0.1-py2.py3-none-any.whl (54kB)\n",
            "\u001b[K     |████████████████████████████████| 61kB 6.6MB/s \n",
            "\u001b[?25hCollecting parsel>=1.5.0\n",
            "  Downloading https://files.pythonhosted.org/packages/23/1e/9b39d64cbab79d4362cdd7be7f5e9623d45c4a53b3f7522cd8210df52d8e/parsel-1.6.0-py2.py3-none-any.whl\n",
            "Requirement already satisfied: cssselect>=0.9.1 in /usr/local/lib/python3.7/dist-packages (from Scrapy>=1.1.0->news-please) (1.1.0)\n",
            "Collecting Twisted[http2]>=17.9.0\n",
            "\u001b[?25l  Downloading https://files.pythonhosted.org/packages/f2/16/3eb9c66a7bfb5220c7bcbaaac33d359fe8a157b028959cd210983749b2e0/Twisted-21.2.0-py3-none-any.whl (3.1MB)\n",
            "\u001b[K     |████████████████████████████████| 3.1MB 40.9MB/s \n",
            "\u001b[?25hCollecting queuelib>=1.4.2\n",
            "  Downloading https://files.pythonhosted.org/packages/ee/30/0670f4b7a4eef6cf453336c5661eff41da2650e5f143c039b50e033732bd/queuelib-1.6.1-py2.py3-none-any.whl\n",
            "Collecting itemadapter>=0.1.0\n",
            "  Downloading https://files.pythonhosted.org/packages/88/83/ab33780fd93278e699561d61862d27343c95d3fe0a0081acd73e8e26a649/itemadapter-0.2.0-py3-none-any.whl\n",
            "Requirement already satisfied: urllib3<2,>=1.21.1 in /usr/local/lib/python3.7/dist-packages (from elasticsearch>=2.4->news-please) (1.24.3)\n",
            "Requirement already satisfied: certifi in /usr/local/lib/python3.7/dist-packages (from elasticsearch>=2.4->news-please) (2020.12.5)\n",
            "Requirement already satisfied: soupsieve>1.2; python_version >= \"3.0\" in /usr/local/lib/python3.7/dist-packages (from beautifulsoup4>=4.3.2->news-please) (2.2.1)\n",
            "Requirement already satisfied: chardet in /usr/local/lib/python3.7/dist-packages (from readability-lxml>=0.6.2->news-please) (3.0.4)\n",
            "Requirement already satisfied: feedparser>=5.2.1 in /usr/local/lib/python3.7/dist-packages (from newspaper3k>=0.2.8->news-please) (5.2.1)\n",
            "Requirement already satisfied: Pillow>=3.3.0 in /usr/local/lib/python3.7/dist-packages (from newspaper3k>=0.2.8->news-please) (7.1.2)\n",
            "Requirement already satisfied: feedfinder2>=0.0.4 in /usr/local/lib/python3.7/dist-packages (from newspaper3k>=0.2.8->news-please) (0.0.4)\n",
            "Requirement already satisfied: tinysegmenter==0.3 in /usr/local/lib/python3.7/dist-packages (from newspaper3k>=0.2.8->news-please) (0.3)\n",
            "Requirement already satisfied: requests>=2.10.0 in /usr/local/lib/python3.7/dist-packages (from newspaper3k>=0.2.8->news-please) (2.25.1)\n",
            "Requirement already satisfied: jieba3k>=0.35.1 in /usr/local/lib/python3.7/dist-packages (from newspaper3k>=0.2.8->news-please) (0.35.1)\n",
            "Requirement already satisfied: tldextract>=2.0.1 in /usr/local/lib/python3.7/dist-packages (from newspaper3k>=0.2.8->news-please) (3.1.0)\n",
            "Requirement already satisfied: PyYAML>=3.11 in /usr/local/lib/python3.7/dist-packages (from newspaper3k>=0.2.8->news-please) (3.13)\n",
            "Requirement already satisfied: nltk>=3.2.1 in /usr/local/lib/python3.7/dist-packages (from newspaper3k>=0.2.8->news-please) (3.2.5)\n",
            "Collecting s3transfer<0.5.0,>=0.4.0\n",
            "\u001b[?25l  Downloading https://files.pythonhosted.org/packages/63/d0/693477c688348654ddc21dcdce0817653a294aa43f41771084c25e7ff9c7/s3transfer-0.4.2-py2.py3-none-any.whl (79kB)\n",
            "\u001b[K     |████████████████████████████████| 81kB 7.3MB/s \n",
            "\u001b[?25hCollecting colorama<0.4.4,>=0.2.5\n",
            "  Downloading https://files.pythonhosted.org/packages/c9/dc/45cdef1b4d119eb96316b3117e6d5708a08029992b2fee2c143c7a0a5cc5/colorama-0.4.3-py2.py3-none-any.whl\n",
            "Collecting botocore==1.20.84\n",
            "\u001b[?25l  Downloading https://files.pythonhosted.org/packages/bc/22/72c81d754bbcb128cba2ad88670c3c320e4594e6ddd8cca6512c3967108c/botocore-1.20.84-py2.py3-none-any.whl (7.6MB)\n",
            "\u001b[K     |████████████████████████████████| 7.6MB 39.0MB/s \n",
            "\u001b[?25hCollecting docutils<0.16,>=0.10\n",
            "\u001b[?25l  Downloading https://files.pythonhosted.org/packages/22/cd/a6aa959dca619918ccb55023b4cb151949c64d4d5d55b3f4ffd7eee0c6e8/docutils-0.15.2-py3-none-any.whl (547kB)\n",
            "\u001b[K     |████████████████████████████████| 552kB 47.0MB/s \n",
            "\u001b[?25hRequirement already satisfied: rsa<4.8,>=3.1.2; python_version > \"2.7\" in /usr/local/lib/python3.7/dist-packages (from awscli>=1.11.117->news-please) (4.7.2)\n",
            "Requirement already satisfied: setuptools in /usr/local/lib/python3.7/dist-packages (from hurry.filesize>=0.9->news-please) (56.1.0)\n",
            "Collecting jmespath>=0.9.5\n",
            "  Downloading https://files.pythonhosted.org/packages/07/cb/5f001272b6faeb23c1c9e0acc04d48eaaf5c862c17709d20e3469c6e0139/jmespath-0.10.0-py2.py3-none-any.whl\n",
            "Requirement already satisfied: cffi>=1.12 in /usr/local/lib/python3.7/dist-packages (from cryptography>=2.0->Scrapy>=1.1.0->news-please) (1.14.5)\n",
            "Requirement already satisfied: pyasn1-modules in /usr/local/lib/python3.7/dist-packages (from service-identity>=16.0.0->Scrapy>=1.1.0->news-please) (0.2.8)\n",
            "Requirement already satisfied: attrs>=19.1.0 in /usr/local/lib/python3.7/dist-packages (from service-identity>=16.0.0->Scrapy>=1.1.0->news-please) (21.2.0)\n",
            "Requirement already satisfied: pyasn1 in /usr/local/lib/python3.7/dist-packages (from service-identity>=16.0.0->Scrapy>=1.1.0->news-please) (0.4.8)\n",
            "Collecting hpack<4,>=3.0\n",
            "  Downloading https://files.pythonhosted.org/packages/8a/cc/e53517f4a1e13f74776ca93271caef378dadec14d71c61c949d759d3db69/hpack-3.0.0-py2.py3-none-any.whl\n",
            "Collecting hyperframe<6,>=5.2.0\n",
            "  Downloading https://files.pythonhosted.org/packages/19/0c/bf88182bcb5dce3094e2f3e4fe20db28a9928cb7bd5b08024030e4b140db/hyperframe-5.2.0-py2.py3-none-any.whl\n",
            "Collecting incremental>=16.10.1\n",
            "  Downloading https://files.pythonhosted.org/packages/99/3b/4f80dd10cb716f3a9e22ae88f026d25c47cc3fdf82c2747f3d59c98e4ff1/incremental-21.3.0-py2.py3-none-any.whl\n",
            "Collecting Automat>=0.8.0\n",
            "  Downloading https://files.pythonhosted.org/packages/dd/83/5f6f3c1a562674d65efc320257bdc0873ec53147835aeef7762fe7585273/Automat-20.2.0-py2.py3-none-any.whl\n",
            "Collecting hyperlink>=17.1.1\n",
            "\u001b[?25l  Downloading https://files.pythonhosted.org/packages/6e/aa/8caf6a0a3e62863cbb9dab27135660acba46903b703e224f14f447e57934/hyperlink-21.0.0-py2.py3-none-any.whl (74kB)\n",
            "\u001b[K     |████████████████████████████████| 81kB 7.0MB/s \n",
            "\u001b[?25hCollecting constantly>=15.1\n",
            "  Downloading https://files.pythonhosted.org/packages/b9/65/48c1909d0c0aeae6c10213340ce682db01b48ea900a7d9fce7a7910ff318/constantly-15.1.0-py2.py3-none-any.whl\n",
            "Collecting priority<2.0,>=1.1.0; extra == \"http2\"\n",
            "  Downloading https://files.pythonhosted.org/packages/de/96/2f4b8da7be255cd41e825c398efd11a6706ff86e66ae198f012204aa2a4f/priority-1.3.0-py2.py3-none-any.whl\n",
            "Requirement already satisfied: idna<3,>=2.5 in /usr/local/lib/python3.7/dist-packages (from requests>=2.10.0->newspaper3k>=0.2.8->news-please) (2.10)\n",
            "Requirement already satisfied: requests-file>=1.4 in /usr/local/lib/python3.7/dist-packages (from tldextract>=2.0.1->newspaper3k>=0.2.8->news-please) (1.5.1)\n",
            "Requirement already satisfied: filelock>=3.0.8 in /usr/local/lib/python3.7/dist-packages (from tldextract>=2.0.1->newspaper3k>=0.2.8->news-please) (3.0.12)\n",
            "Requirement already satisfied: pycparser in /usr/local/lib/python3.7/dist-packages (from cffi>=1.12->cryptography>=2.0->Scrapy>=1.1.0->news-please) (2.20)\n",
            "Building wheels for collected packages: news-please, langdetect, PyDispatcher, ago, hurry.filesize, protego\n",
            "  Building wheel for news-please (setup.py) ... \u001b[?25l\u001b[?25hdone\n",
            "  Created wheel for news-please: filename=news_please-1.5.21-cp37-none-any.whl size=89625 sha256=2341b1e10a84d05f95223f0796fc9447aa717a9f3180af2e3c37e004c9d253b8\n",
            "  Stored in directory: /root/.cache/pip/wheels/52/02/cf/45ac7e56eeb430ef0d1c5b0866243a69699ac7b4a0b2227d72\n",
            "  Building wheel for langdetect (setup.py) ... \u001b[?25l\u001b[?25hdone\n",
            "  Created wheel for langdetect: filename=langdetect-1.0.9-cp37-none-any.whl size=993223 sha256=7c66ec32fa9bdf87c0ec7784cc9f7ca0916782a5dc7716c1ca53c2a0ae61cd7b\n",
            "  Stored in directory: /root/.cache/pip/wheels/7e/18/13/038c34057808931c7ddc6c92d3aa015cf1a498df5a70268996\n",
            "  Building wheel for PyDispatcher (setup.py) ... \u001b[?25l\u001b[?25hdone\n",
            "  Created wheel for PyDispatcher: filename=PyDispatcher-2.0.5-cp37-none-any.whl size=11517 sha256=3ef22af1229bdfab3cf0c5b6f6a10434589e12dee8c3bb3ce86acaa2519bd187\n",
            "  Stored in directory: /root/.cache/pip/wheels/88/99/96/cfef6665f9cb1522ee6757ae5955feedf2fe25f1737f91fa7f\n",
            "  Building wheel for ago (setup.py) ... \u001b[?25l\u001b[?25hdone\n",
            "  Created wheel for ago: filename=ago-0.0.93-cp37-none-any.whl size=3276 sha256=629a118e4d3d3a04424496c69de09c2dd16b10780901269a1c6bfbad62f7006e\n",
            "  Stored in directory: /root/.cache/pip/wheels/86/65/dc/27df15b96de756d2e07bc01433067df2e6ace2bae8de0576a2\n",
            "  Building wheel for hurry.filesize (setup.py) ... \u001b[?25l\u001b[?25hdone\n",
            "  Created wheel for hurry.filesize: filename=hurry.filesize-0.9-cp37-none-any.whl size=4135 sha256=bddd68b8e42f3d0768fbb21e721a2ba8cad712ca6ef9f168184d3cefa6821ac2\n",
            "  Stored in directory: /root/.cache/pip/wheels/2c/2b/7d/b63fffa26fe9949c4c44f226c566387b72617269c94b89eded\n",
            "  Building wheel for protego (setup.py) ... \u001b[?25l\u001b[?25hdone\n",
            "  Created wheel for protego: filename=Protego-0.1.16-cp37-none-any.whl size=7766 sha256=17d9635ba5b828a43d0bd4dc19654c2dd7a64b48f818c4d5278219a20ed68356\n",
            "  Stored in directory: /root/.cache/pip/wheels/51/01/d1/4a2286a976dccd025ba679acacfe37320540df0f2283ecab12\n",
            "Successfully built news-please langdetect PyDispatcher ago hurry.filesize protego\n",
            "\u001b[31mERROR: datascience 0.10.6 has requirement folium==0.2.1, but you'll have folium 0.8.3 which is incompatible.\u001b[0m\n",
            "\u001b[31mERROR: botocore 1.20.84 has requirement urllib3<1.27,>=1.25.4, but you'll have urllib3 1.24.3 which is incompatible.\u001b[0m\n",
            "Installing collected packages: w3lib, parsel, jmespath, itemadapter, itemloaders, cryptography, protego, zope.interface, service-identity, hpack, hyperframe, h2, PyDispatcher, pyOpenSSL, incremental, Automat, hyperlink, constantly, priority, Twisted, queuelib, Scrapy, PyMySQL, psycopg2-binary, hjson, elasticsearch, readability-lxml, langdetect, dotmap, warcio, ago, botocore, s3transfer, colorama, docutils, awscli, hurry.filesize, cchardet, news-please\n",
            "  Found existing installation: docutils 0.17.1\n",
            "    Uninstalling docutils-0.17.1:\n",
            "      Successfully uninstalled docutils-0.17.1\n",
            "Successfully installed Automat-20.2.0 PyDispatcher-2.0.5 PyMySQL-1.0.2 Scrapy-2.5.0 Twisted-21.2.0 ago-0.0.93 awscli-1.19.84 botocore-1.20.84 cchardet-2.1.7 colorama-0.4.3 constantly-15.1.0 cryptography-3.4.7 docutils-0.15.2 dotmap-1.3.23 elasticsearch-7.13.0 h2-3.2.0 hjson-3.0.2 hpack-3.0.0 hurry.filesize-0.9 hyperframe-5.2.0 hyperlink-21.0.0 incremental-21.3.0 itemadapter-0.2.0 itemloaders-1.0.4 jmespath-0.10.0 langdetect-1.0.9 news-please-1.5.21 parsel-1.6.0 priority-1.3.0 protego-0.1.16 psycopg2-binary-2.8.6 pyOpenSSL-20.0.1 queuelib-1.6.1 readability-lxml-0.8.1 s3transfer-0.4.2 service-identity-21.1.0 w3lib-1.22.0 warcio-1.7.4 zope.interface-5.4.0\n"
          ],
          "name": "stdout"
        }
      ]
    },
    {
      "cell_type": "code",
      "metadata": {
        "colab": {
          "base_uri": "https://localhost:8080/"
        },
        "id": "yBDXevU4pGqD",
        "outputId": "cc87614c-9fb6-4c04-cbea-d02f4453e77e"
      },
      "source": [
        "!pip install comcrawl"
      ],
      "execution_count": null,
      "outputs": [
        {
          "output_type": "stream",
          "text": [
            "Collecting comcrawl\n",
            "  Downloading https://files.pythonhosted.org/packages/df/19/11fac3419c0da637abc9e99b2f18953813f7d77c9e5916e93d7a5aba3845/comcrawl-1.0.2-py3-none-any.whl\n",
            "Requirement already satisfied: requests<3.0.0,>=2.22.0 in /usr/local/lib/python3.7/dist-packages (from comcrawl) (2.25.1)\n",
            "Requirement already satisfied: idna<3,>=2.5 in /usr/local/lib/python3.7/dist-packages (from requests<3.0.0,>=2.22.0->comcrawl) (2.10)\n",
            "Requirement already satisfied: certifi>=2017.4.17 in /usr/local/lib/python3.7/dist-packages (from requests<3.0.0,>=2.22.0->comcrawl) (2020.12.5)\n",
            "Requirement already satisfied: urllib3<1.27,>=1.21.1 in /usr/local/lib/python3.7/dist-packages (from requests<3.0.0,>=2.22.0->comcrawl) (1.24.3)\n",
            "Requirement already satisfied: chardet<5,>=3.0.2 in /usr/local/lib/python3.7/dist-packages (from requests<3.0.0,>=2.22.0->comcrawl) (3.0.4)\n",
            "Installing collected packages: comcrawl\n",
            "Successfully installed comcrawl-1.0.2\n"
          ],
          "name": "stdout"
        }
      ]
    },
    {
      "cell_type": "code",
      "metadata": {
        "id": "IspsbDyoSPoL"
      },
      "source": [
        ""
      ],
      "execution_count": null,
      "outputs": []
    },
    {
      "cell_type": "code",
      "metadata": {
        "id": "8UGhCZV2OV7V"
      },
      "source": [
        ""
      ],
      "execution_count": null,
      "outputs": []
    },
    {
      "cell_type": "markdown",
      "metadata": {
        "id": "Kn78PqrpOWFc"
      },
      "source": [
        ""
      ]
    },
    {
      "cell_type": "code",
      "metadata": {
        "colab": {
          "base_uri": "https://localhost:8080/",
          "height": 70
        },
        "id": "nrh1IKzk4L1h",
        "outputId": "d69ffea4-3ea4-465e-ce86-85ef6d3b5c6d"
      },
      "source": [
        "pd.DataFrame(client.results)['html'][184]"
      ],
      "execution_count": null,
      "outputs": [
        {
          "output_type": "execute_result",
          "data": {
            "application/vnd.google.colaboratory.intrinsic+json": {
              "type": "string"
            },
            "text/plain": [
              "'<html><head><title>nytimes.com</title><style>#cmsg{animation: A 1.5s;}@keyframes A{0%{opacity:0;}99%{opacity:0;}100%{opacity:1;}}</style></head><body style=\"margin:0\"><p id=\"cmsg\">Please enable JS and disable any ad blocker</p><script>var dd={\\'cid\\':\\'AHrlqAAAAAMAU8YtLWItTi0AIsy6Ww==\\',\\'hsh\\':\\'499AE34129FA4E4FABC31582C3075D\\',\\'t\\':\\'fe\\',\\'s\\':17439,\\'host\\':\\'geo.captcha-delivery.com\\'}</script><script src=\"https://ct.captcha-delivery.com/c.js\"></script></body></html>'"
            ]
          },
          "metadata": {
            "tags": []
          },
          "execution_count": 134
        }
      ]
    },
    {
      "cell_type": "code",
      "metadata": {
        "colab": {
          "base_uri": "https://localhost:8080/"
        },
        "id": "kadReNpSD1Uw",
        "outputId": "80f82876-8337-4fb5-ded5-1d49f64e43e4"
      },
      "source": [
        "!pip install warcio"
      ],
      "execution_count": null,
      "outputs": [
        {
          "output_type": "stream",
          "text": [
            "Requirement already satisfied: warcio in /usr/local/lib/python3.7/dist-packages (1.7.4)\n",
            "Requirement already satisfied: six in /usr/local/lib/python3.7/dist-packages (from warcio) (1.15.0)\n"
          ],
          "name": "stdout"
        }
      ]
    },
    {
      "cell_type": "code",
      "metadata": {
        "colab": {
          "base_uri": "https://localhost:8080/"
        },
        "id": "0ndZpaCWyXSu",
        "outputId": "7d8c77ed-84ba-4c21-9739-a4f24b6d4ce8"
      },
      "source": [
        "!pip3 install newspaper3k"
      ],
      "execution_count": null,
      "outputs": [
        {
          "output_type": "stream",
          "text": [
            "Collecting newspaper3k\n",
            "\u001b[?25l  Downloading https://files.pythonhosted.org/packages/d7/b9/51afecb35bb61b188a4b44868001de348a0e8134b4dfa00ffc191567c4b9/newspaper3k-0.2.8-py3-none-any.whl (211kB)\n",
            "\u001b[K     |████████████████████████████████| 215kB 2.8MB/s \n",
            "\u001b[?25hCollecting jieba3k>=0.35.1\n",
            "\u001b[?25l  Downloading https://files.pythonhosted.org/packages/a9/cb/2c8332bcdc14d33b0bedd18ae0a4981a069c3513e445120da3c3f23a8aaa/jieba3k-0.35.1.zip (7.4MB)\n",
            "\u001b[K     |████████████████████████████████| 7.4MB 9.1MB/s \n",
            "\u001b[?25hRequirement already satisfied: requests>=2.10.0 in /usr/local/lib/python3.7/dist-packages (from newspaper3k) (2.25.1)\n",
            "Requirement already satisfied: beautifulsoup4>=4.4.1 in /usr/local/lib/python3.7/dist-packages (from newspaper3k) (4.9.3)\n",
            "Collecting tinysegmenter==0.3\n",
            "  Downloading https://files.pythonhosted.org/packages/17/82/86982e4b6d16e4febc79c2a1d68ee3b707e8a020c5d2bc4af8052d0f136a/tinysegmenter-0.3.tar.gz\n",
            "Requirement already satisfied: PyYAML>=3.11 in /usr/local/lib/python3.7/dist-packages (from newspaper3k) (3.13)\n",
            "Collecting tldextract>=2.0.1\n",
            "\u001b[?25l  Downloading https://files.pythonhosted.org/packages/7e/62/b6acd3129c5615b9860e670df07fd55b76175b63e6b7f68282c7cad38e9e/tldextract-3.1.0-py2.py3-none-any.whl (87kB)\n",
            "\u001b[K     |████████████████████████████████| 92kB 9.8MB/s \n",
            "\u001b[?25hCollecting cssselect>=0.9.2\n",
            "  Downloading https://files.pythonhosted.org/packages/3b/d4/3b5c17f00cce85b9a1e6f91096e1cc8e8ede2e1be8e96b87ce1ed09e92c5/cssselect-1.1.0-py2.py3-none-any.whl\n",
            "Requirement already satisfied: feedparser>=5.2.1 in /usr/local/lib/python3.7/dist-packages (from newspaper3k) (5.2.1)\n",
            "Requirement already satisfied: python-dateutil>=2.5.3 in /usr/local/lib/python3.7/dist-packages (from newspaper3k) (2.8.1)\n",
            "Requirement already satisfied: Pillow>=3.3.0 in /usr/local/lib/python3.7/dist-packages (from newspaper3k) (7.1.2)\n",
            "Requirement already satisfied: lxml>=3.6.0 in /usr/local/lib/python3.7/dist-packages (from newspaper3k) (4.2.6)\n",
            "Collecting feedfinder2>=0.0.4\n",
            "  Downloading https://files.pythonhosted.org/packages/35/82/1251fefec3bb4b03fd966c7e7f7a41c9fc2bb00d823a34c13f847fd61406/feedfinder2-0.0.4.tar.gz\n",
            "Requirement already satisfied: nltk>=3.2.1 in /usr/local/lib/python3.7/dist-packages (from newspaper3k) (3.2.5)\n",
            "Requirement already satisfied: chardet<5,>=3.0.2 in /usr/local/lib/python3.7/dist-packages (from requests>=2.10.0->newspaper3k) (3.0.4)\n",
            "Requirement already satisfied: urllib3<1.27,>=1.21.1 in /usr/local/lib/python3.7/dist-packages (from requests>=2.10.0->newspaper3k) (1.24.3)\n",
            "Requirement already satisfied: idna<3,>=2.5 in /usr/local/lib/python3.7/dist-packages (from requests>=2.10.0->newspaper3k) (2.10)\n",
            "Requirement already satisfied: certifi>=2017.4.17 in /usr/local/lib/python3.7/dist-packages (from requests>=2.10.0->newspaper3k) (2020.12.5)\n",
            "Requirement already satisfied: soupsieve>1.2; python_version >= \"3.0\" in /usr/local/lib/python3.7/dist-packages (from beautifulsoup4>=4.4.1->newspaper3k) (2.2.1)\n",
            "Collecting requests-file>=1.4\n",
            "  Downloading https://files.pythonhosted.org/packages/77/86/cdb5e8eaed90796aa83a6d9f75cfbd37af553c47a291cd47bc410ef9bdb2/requests_file-1.5.1-py2.py3-none-any.whl\n",
            "Requirement already satisfied: filelock>=3.0.8 in /usr/local/lib/python3.7/dist-packages (from tldextract>=2.0.1->newspaper3k) (3.0.12)\n",
            "Requirement already satisfied: six>=1.5 in /usr/local/lib/python3.7/dist-packages (from python-dateutil>=2.5.3->newspaper3k) (1.15.0)\n",
            "Building wheels for collected packages: jieba3k, tinysegmenter, feedfinder2\n",
            "  Building wheel for jieba3k (setup.py) ... \u001b[?25l\u001b[?25hdone\n",
            "  Created wheel for jieba3k: filename=jieba3k-0.35.1-cp37-none-any.whl size=7398406 sha256=f0d5060e7184bb6f5ff6cc155ee96dd9a69561a363fa5703be7c1d8ddbaedbe7\n",
            "  Stored in directory: /root/.cache/pip/wheels/83/15/9c/a3f1f67e7f7181170ad37d32e503c35da20627c013f438ed34\n",
            "  Building wheel for tinysegmenter (setup.py) ... \u001b[?25l\u001b[?25hdone\n",
            "  Created wheel for tinysegmenter: filename=tinysegmenter-0.3-cp37-none-any.whl size=13538 sha256=3940fb295170ca9fc66f915116aae777bb9fb0dce3484ce9c465453947f4664a\n",
            "  Stored in directory: /root/.cache/pip/wheels/81/2b/43/a02ede72324dd40cdd7ca53aad718c7710628e91b8b0dc0f02\n",
            "  Building wheel for feedfinder2 (setup.py) ... \u001b[?25l\u001b[?25hdone\n",
            "  Created wheel for feedfinder2: filename=feedfinder2-0.0.4-cp37-none-any.whl size=3358 sha256=482d68c8b6c0486c299adfab7c02e03aeaf352ef15174824844d58027b23a51e\n",
            "  Stored in directory: /root/.cache/pip/wheels/de/03/ca/778e3a7a627e3d98836cc890e7cb40c7575424cfd3340f40ed\n",
            "Successfully built jieba3k tinysegmenter feedfinder2\n",
            "Installing collected packages: jieba3k, tinysegmenter, requests-file, tldextract, cssselect, feedfinder2, newspaper3k\n",
            "Successfully installed cssselect-1.1.0 feedfinder2-0.0.4 jieba3k-0.35.1 newspaper3k-0.2.8 requests-file-1.5.1 tinysegmenter-0.3 tldextract-3.1.0\n"
          ],
          "name": "stdout"
        }
      ]
    },
    {
      "cell_type": "code",
      "metadata": {
        "colab": {
          "base_uri": "https://localhost:8080/"
        },
        "id": "pLhY84D_2nLk",
        "outputId": "7e069b57-9870-445c-dbcf-2d667d3b831c"
      },
      "source": [
        "!pip install pygooglenews --upgrade"
      ],
      "execution_count": null,
      "outputs": [
        {
          "output_type": "stream",
          "text": [
            "Collecting pygooglenews\n",
            "  Downloading https://files.pythonhosted.org/packages/59/cb/84f162888a07e501630f6be7c70997c5c8afd5ba4a40c3a079c321e97c29/pygooglenews-0.1.2-py3-none-any.whl\n",
            "Collecting dateparser<0.8.0,>=0.7.6\n",
            "\u001b[?25l  Downloading https://files.pythonhosted.org/packages/c1/d5/5a2e51bc0058f66b54669735f739d27afc3eb453ab00520623c7ab168e22/dateparser-0.7.6-py2.py3-none-any.whl (362kB)\n",
            "\u001b[K     |████████████████████████████████| 368kB 2.8MB/s \n",
            "\u001b[?25hCollecting requests<3.0.0,>=2.24.0\n",
            "\u001b[?25l  Downloading https://files.pythonhosted.org/packages/29/c1/24814557f1d22c56d50280771a17307e6bf87b70727d975fd6b2ce6b014a/requests-2.25.1-py2.py3-none-any.whl (61kB)\n",
            "\u001b[K     |████████████████████████████████| 61kB 4.6MB/s \n",
            "\u001b[?25hCollecting feedparser<6.0.0,>=5.2.1\n",
            "\u001b[?25l  Downloading https://files.pythonhosted.org/packages/91/d8/7d37fec71ff7c9dbcdd80d2b48bcdd86d6af502156fc93846fb0102cb2c4/feedparser-5.2.1.tar.bz2 (192kB)\n",
            "\u001b[K     |████████████████████████████████| 194kB 8.2MB/s \n",
            "\u001b[?25hCollecting beautifulsoup4<5.0.0,>=4.9.1\n",
            "\u001b[?25l  Downloading https://files.pythonhosted.org/packages/d1/41/e6495bd7d3781cee623ce23ea6ac73282a373088fcd0ddc809a047b18eae/beautifulsoup4-4.9.3-py3-none-any.whl (115kB)\n",
            "\u001b[K     |████████████████████████████████| 122kB 9.0MB/s \n",
            "\u001b[?25hRequirement already satisfied, skipping upgrade: pytz in /usr/local/lib/python3.7/dist-packages (from dateparser<0.8.0,>=0.7.6->pygooglenews) (2018.9)\n",
            "Requirement already satisfied, skipping upgrade: regex!=2019.02.19 in /usr/local/lib/python3.7/dist-packages (from dateparser<0.8.0,>=0.7.6->pygooglenews) (2019.12.20)\n",
            "Requirement already satisfied, skipping upgrade: tzlocal in /usr/local/lib/python3.7/dist-packages (from dateparser<0.8.0,>=0.7.6->pygooglenews) (1.5.1)\n",
            "Requirement already satisfied, skipping upgrade: python-dateutil in /usr/local/lib/python3.7/dist-packages (from dateparser<0.8.0,>=0.7.6->pygooglenews) (2.8.1)\n",
            "Requirement already satisfied, skipping upgrade: idna<3,>=2.5 in /usr/local/lib/python3.7/dist-packages (from requests<3.0.0,>=2.24.0->pygooglenews) (2.10)\n",
            "Requirement already satisfied, skipping upgrade: urllib3<1.27,>=1.21.1 in /usr/local/lib/python3.7/dist-packages (from requests<3.0.0,>=2.24.0->pygooglenews) (1.24.3)\n",
            "Requirement already satisfied, skipping upgrade: certifi>=2017.4.17 in /usr/local/lib/python3.7/dist-packages (from requests<3.0.0,>=2.24.0->pygooglenews) (2020.12.5)\n",
            "Requirement already satisfied, skipping upgrade: chardet<5,>=3.0.2 in /usr/local/lib/python3.7/dist-packages (from requests<3.0.0,>=2.24.0->pygooglenews) (3.0.4)\n",
            "Collecting soupsieve>1.2; python_version >= \"3.0\"\n",
            "  Downloading https://files.pythonhosted.org/packages/36/69/d82d04022f02733bf9a72bc3b96332d360c0c5307096d76f6bb7489f7e57/soupsieve-2.2.1-py3-none-any.whl\n",
            "Requirement already satisfied, skipping upgrade: six>=1.5 in /usr/local/lib/python3.7/dist-packages (from python-dateutil->dateparser<0.8.0,>=0.7.6->pygooglenews) (1.15.0)\n",
            "Building wheels for collected packages: feedparser\n",
            "  Building wheel for feedparser (setup.py) ... \u001b[?25l\u001b[?25hdone\n",
            "  Created wheel for feedparser: filename=feedparser-5.2.1-cp37-none-any.whl size=44940 sha256=049551ad94dd6ac5f8d415742ed2c82c3d523f7b1a45546f90d91a91d621ecee\n",
            "  Stored in directory: /root/.cache/pip/wheels/8c/69/b7/f52763c41c5471df57703a0ef718a32a5e81ee35dcf6d4f97f\n",
            "Successfully built feedparser\n",
            "\u001b[31mERROR: google-colab 1.0.0 has requirement requests~=2.23.0, but you'll have requests 2.25.1 which is incompatible.\u001b[0m\n",
            "\u001b[31mERROR: datascience 0.10.6 has requirement folium==0.2.1, but you'll have folium 0.8.3 which is incompatible.\u001b[0m\n",
            "Installing collected packages: dateparser, requests, feedparser, soupsieve, beautifulsoup4, pygooglenews\n",
            "  Found existing installation: requests 2.23.0\n",
            "    Uninstalling requests-2.23.0:\n",
            "      Successfully uninstalled requests-2.23.0\n",
            "  Found existing installation: beautifulsoup4 4.6.3\n",
            "    Uninstalling beautifulsoup4-4.6.3:\n",
            "      Successfully uninstalled beautifulsoup4-4.6.3\n",
            "Successfully installed beautifulsoup4-4.9.3 dateparser-0.7.6 feedparser-5.2.1 pygooglenews-0.1.2 requests-2.25.1 soupsieve-2.2.1\n"
          ],
          "name": "stdout"
        }
      ]
    },
    {
      "cell_type": "code",
      "metadata": {
        "colab": {
          "base_uri": "https://localhost:8080/"
        },
        "id": "fSC6p2QqZUQz",
        "outputId": "547de58a-5fae-4c93-8842-0453bfc3ccdc"
      },
      "source": [
        "!pip install -r https://raw.githubusercontent.com/songyouwei/ABSA-PyTorch/master/requirements.txt"
      ],
      "execution_count": null,
      "outputs": [
        {
          "output_type": "stream",
          "text": [
            "Requirement already satisfied: numpy>=1.13.3 in /usr/local/lib/python3.7/dist-packages (from -r https://raw.githubusercontent.com/songyouwei/ABSA-PyTorch/master/requirements.txt (line 1)) (1.19.5)\n",
            "Requirement already satisfied: torch>=0.4.0 in /usr/local/lib/python3.7/dist-packages (from -r https://raw.githubusercontent.com/songyouwei/ABSA-PyTorch/master/requirements.txt (line 2)) (1.8.1+cu101)\n",
            "Collecting transformers<4.0.0,>=3.5.1\n",
            "\u001b[?25l  Downloading https://files.pythonhosted.org/packages/3a/83/e74092e7f24a08d751aa59b37a9fc572b2e4af3918cb66f7766c3affb1b4/transformers-3.5.1-py3-none-any.whl (1.3MB)\n",
            "\u001b[K     |████████████████████████████████| 1.3MB 2.9MB/s \n",
            "\u001b[?25hRequirement already satisfied: sklearn in /usr/local/lib/python3.7/dist-packages (from -r https://raw.githubusercontent.com/songyouwei/ABSA-PyTorch/master/requirements.txt (line 4)) (0.0)\n",
            "Requirement already satisfied: typing-extensions in /usr/local/lib/python3.7/dist-packages (from torch>=0.4.0->-r https://raw.githubusercontent.com/songyouwei/ABSA-PyTorch/master/requirements.txt (line 2)) (3.7.4.3)\n",
            "Requirement already satisfied: protobuf in /usr/local/lib/python3.7/dist-packages (from transformers<4.0.0,>=3.5.1->-r https://raw.githubusercontent.com/songyouwei/ABSA-PyTorch/master/requirements.txt (line 3)) (3.12.4)\n",
            "Requirement already satisfied: requests in /usr/local/lib/python3.7/dist-packages (from transformers<4.0.0,>=3.5.1->-r https://raw.githubusercontent.com/songyouwei/ABSA-PyTorch/master/requirements.txt (line 3)) (2.25.1)\n",
            "Collecting tokenizers==0.9.3\n",
            "\u001b[?25l  Downloading https://files.pythonhosted.org/packages/7b/ac/f5ba028f0f097d855e1541301e946d4672eb0f30b6e25cb2369075f916d2/tokenizers-0.9.3-cp37-cp37m-manylinux1_x86_64.whl (2.9MB)\n",
            "\u001b[K     |████████████████████████████████| 2.9MB 18.2MB/s \n",
            "\u001b[?25hRequirement already satisfied: tqdm>=4.27 in /usr/local/lib/python3.7/dist-packages (from transformers<4.0.0,>=3.5.1->-r https://raw.githubusercontent.com/songyouwei/ABSA-PyTorch/master/requirements.txt (line 3)) (4.41.1)\n",
            "Requirement already satisfied: filelock in /usr/local/lib/python3.7/dist-packages (from transformers<4.0.0,>=3.5.1->-r https://raw.githubusercontent.com/songyouwei/ABSA-PyTorch/master/requirements.txt (line 3)) (3.0.12)\n",
            "Requirement already satisfied: regex!=2019.12.17 in /usr/local/lib/python3.7/dist-packages (from transformers<4.0.0,>=3.5.1->-r https://raw.githubusercontent.com/songyouwei/ABSA-PyTorch/master/requirements.txt (line 3)) (2019.12.20)\n",
            "Collecting sentencepiece==0.1.91\n",
            "\u001b[?25l  Downloading https://files.pythonhosted.org/packages/f2/e2/813dff3d72df2f49554204e7e5f73a3dc0f0eb1e3958a4cad3ef3fb278b7/sentencepiece-0.1.91-cp37-cp37m-manylinux1_x86_64.whl (1.1MB)\n",
            "\u001b[K     |████████████████████████████████| 1.1MB 32.2MB/s \n",
            "\u001b[?25hRequirement already satisfied: packaging in /usr/local/lib/python3.7/dist-packages (from transformers<4.0.0,>=3.5.1->-r https://raw.githubusercontent.com/songyouwei/ABSA-PyTorch/master/requirements.txt (line 3)) (20.9)\n",
            "Collecting sacremoses\n",
            "\u001b[?25l  Downloading https://files.pythonhosted.org/packages/75/ee/67241dc87f266093c533a2d4d3d69438e57d7a90abb216fa076e7d475d4a/sacremoses-0.0.45-py3-none-any.whl (895kB)\n",
            "\u001b[K     |████████████████████████████████| 901kB 37.2MB/s \n",
            "\u001b[?25hRequirement already satisfied: scikit-learn in /usr/local/lib/python3.7/dist-packages (from sklearn->-r https://raw.githubusercontent.com/songyouwei/ABSA-PyTorch/master/requirements.txt (line 4)) (0.22.2.post1)\n",
            "Requirement already satisfied: setuptools in /usr/local/lib/python3.7/dist-packages (from protobuf->transformers<4.0.0,>=3.5.1->-r https://raw.githubusercontent.com/songyouwei/ABSA-PyTorch/master/requirements.txt (line 3)) (56.1.0)\n",
            "Requirement already satisfied: six>=1.9 in /usr/local/lib/python3.7/dist-packages (from protobuf->transformers<4.0.0,>=3.5.1->-r https://raw.githubusercontent.com/songyouwei/ABSA-PyTorch/master/requirements.txt (line 3)) (1.15.0)\n",
            "Requirement already satisfied: certifi>=2017.4.17 in /usr/local/lib/python3.7/dist-packages (from requests->transformers<4.0.0,>=3.5.1->-r https://raw.githubusercontent.com/songyouwei/ABSA-PyTorch/master/requirements.txt (line 3)) (2020.12.5)\n",
            "Requirement already satisfied: chardet<5,>=3.0.2 in /usr/local/lib/python3.7/dist-packages (from requests->transformers<4.0.0,>=3.5.1->-r https://raw.githubusercontent.com/songyouwei/ABSA-PyTorch/master/requirements.txt (line 3)) (3.0.4)\n",
            "Requirement already satisfied: idna<3,>=2.5 in /usr/local/lib/python3.7/dist-packages (from requests->transformers<4.0.0,>=3.5.1->-r https://raw.githubusercontent.com/songyouwei/ABSA-PyTorch/master/requirements.txt (line 3)) (2.10)\n",
            "Requirement already satisfied: urllib3<1.27,>=1.21.1 in /usr/local/lib/python3.7/dist-packages (from requests->transformers<4.0.0,>=3.5.1->-r https://raw.githubusercontent.com/songyouwei/ABSA-PyTorch/master/requirements.txt (line 3)) (1.24.3)\n",
            "Requirement already satisfied: pyparsing>=2.0.2 in /usr/local/lib/python3.7/dist-packages (from packaging->transformers<4.0.0,>=3.5.1->-r https://raw.githubusercontent.com/songyouwei/ABSA-PyTorch/master/requirements.txt (line 3)) (2.4.7)\n",
            "Requirement already satisfied: joblib in /usr/local/lib/python3.7/dist-packages (from sacremoses->transformers<4.0.0,>=3.5.1->-r https://raw.githubusercontent.com/songyouwei/ABSA-PyTorch/master/requirements.txt (line 3)) (1.0.1)\n",
            "Requirement already satisfied: click in /usr/local/lib/python3.7/dist-packages (from sacremoses->transformers<4.0.0,>=3.5.1->-r https://raw.githubusercontent.com/songyouwei/ABSA-PyTorch/master/requirements.txt (line 3)) (7.1.2)\n",
            "Requirement already satisfied: scipy>=0.17.0 in /usr/local/lib/python3.7/dist-packages (from scikit-learn->sklearn->-r https://raw.githubusercontent.com/songyouwei/ABSA-PyTorch/master/requirements.txt (line 4)) (1.4.1)\n",
            "Installing collected packages: tokenizers, sentencepiece, sacremoses, transformers\n",
            "Successfully installed sacremoses-0.0.45 sentencepiece-0.1.91 tokenizers-0.9.3 transformers-3.5.1\n"
          ],
          "name": "stdout"
        }
      ]
    },
    {
      "cell_type": "code",
      "metadata": {
        "id": "nFRQ8LzN4Lzk"
      },
      "source": [
        "from pygooglenews import GoogleNews\n",
        "\n",
        "gn = GoogleNews(lang = 'en', country='US')\n",
        "import pandas as pd\n",
        "import datetime"
      ],
      "execution_count": null,
      "outputs": []
    },
    {
      "cell_type": "code",
      "metadata": {
        "colab": {
          "base_uri": "https://localhost:8080/"
        },
        "id": "oSUk5F6--ouh",
        "outputId": "f61e5b77-33c2-4124-ce1d-f138855f213a"
      },
      "source": [
        "from nltk import tokenize\n",
        "import nltk\n",
        "nltk.download('punkt')"
      ],
      "execution_count": null,
      "outputs": [
        {
          "output_type": "stream",
          "text": [
            "[nltk_data] Downloading package punkt to /root/nltk_data...\n",
            "[nltk_data]   Package punkt is already up-to-date!\n"
          ],
          "name": "stdout"
        },
        {
          "output_type": "execute_result",
          "data": {
            "text/plain": [
              "True"
            ]
          },
          "metadata": {
            "tags": []
          },
          "execution_count": 9
        }
      ]
    },
    {
      "cell_type": "code",
      "metadata": {
        "id": "9kZ1IXSk-e-i"
      },
      "source": [
        "def get_news(search, start, end):\n",
        "    stories = []\n",
        "    start_date = datetime.date(start[0],start[1],start[2])\n",
        "    end_date = datetime.date(end[0],end[1],end[2])\n",
        "    delta = datetime.timedelta(days=1)\n",
        "    date_list = pd.date_range(start_date, end_date).tolist()\n",
        "    domain = ['https://www.forbes.com','https://9to5mac.com'] #'https://www.foxbusiness.com', 'https://www.foxnews.com']\n",
        "    for date in date_list[:-1]:\n",
        "        result = gn.search(search, from_=date.strftime('%Y-%m-%d'), to_=(date+delta).strftime('%Y-%m-%d'))\n",
        "        newsitem = result['entries']\n",
        "\n",
        "        for item in newsitem:\n",
        "          for dom in domain:\n",
        "            if item.link[:len(dom)] == dom:\n",
        "              story = {\n",
        "                  'title':item.title,\n",
        "                  'link':item.link,\n",
        "                  'published':item.published\n",
        "              }\n",
        "              stories.append(story)\n",
        "\n",
        "    return stories\n",
        "\n",
        "#df = pd.DataFrame(get_news('Apple'))\n",
        "#df2 = pd."
      ],
      "execution_count": null,
      "outputs": []
    },
    {
      "cell_type": "code",
      "metadata": {
        "colab": {
          "base_uri": "https://localhost:8080/",
          "height": 402
        },
        "id": "fF9n9kfP4CFm",
        "outputId": "1c6fbc16-0f1d-4f2c-aadb-baa5f0728e68"
      },
      "source": [
        "def get_news_domain(search, start, end):\n",
        "    stories = []\n",
        "    start_date = datetime.date(start[0],start[1],start[2])\n",
        "    end_date = datetime.date(end[0],end[1],end[2])\n",
        "    delta = datetime.timedelta(days=1)\n",
        "    date_list = pd.date_range(start_date, end_date).tolist()\n",
        "    for date in date_list[:-1]:\n",
        "        result = gn.search(search, from_=date.strftime('%Y-%m-%d'), to_=(date+delta).strftime('%Y-%m-%d'))\n",
        "        newsitem = result['entries']\n",
        "\n",
        "        for item in newsitem:\n",
        "            story = {\n",
        "                'title':item.title,\n",
        "                'link':item.link,\n",
        "                'published':item.published\n",
        "            }\n",
        "            stories.append(story)\n",
        "\n",
        "    return stories\n",
        "b=get_news_domain('Apple', (2020, 6, 1), (2020, 9, 1))\n",
        "c= pd.DataFrame(b)\n",
        "c"
      ],
      "execution_count": 178,
      "outputs": [
        {
          "output_type": "execute_result",
          "data": {
            "text/html": [
              "<div>\n",
              "<style scoped>\n",
              "    .dataframe tbody tr th:only-of-type {\n",
              "        vertical-align: middle;\n",
              "    }\n",
              "\n",
              "    .dataframe tbody tr th {\n",
              "        vertical-align: top;\n",
              "    }\n",
              "\n",
              "    .dataframe thead th {\n",
              "        text-align: right;\n",
              "    }\n",
              "</style>\n",
              "<table border=\"1\" class=\"dataframe\">\n",
              "  <thead>\n",
              "    <tr style=\"text-align: right;\">\n",
              "      <th></th>\n",
              "      <th>title</th>\n",
              "      <th>link</th>\n",
              "      <th>published</th>\n",
              "    </tr>\n",
              "  </thead>\n",
              "  <tbody>\n",
              "    <tr>\n",
              "      <th>0</th>\n",
              "      <td>Apple Warns Looters With Stolen iPhones: You A...</td>\n",
              "      <td>https://www.forbes.com/sites/zakdoffman/2020/0...</td>\n",
              "      <td>Mon, 01 Jun 2020 07:00:00 GMT</td>\n",
              "    </tr>\n",
              "    <tr>\n",
              "      <th>1</th>\n",
              "      <td>Researcher claims $100,000 for 'Sign in with A...</td>\n",
              "      <td>https://www.cyberscoop.com/apple-sign-in-vulne...</td>\n",
              "      <td>Mon, 01 Jun 2020 07:00:00 GMT</td>\n",
              "    </tr>\n",
              "    <tr>\n",
              "      <th>2</th>\n",
              "      <td>Old, outdated Apple products you shouldn't buy...</td>\n",
              "      <td>https://www.zdnet.com/article/old-and-outdated...</td>\n",
              "      <td>Mon, 01 Jun 2020 07:00:00 GMT</td>\n",
              "    </tr>\n",
              "    <tr>\n",
              "      <th>3</th>\n",
              "      <td>Apple iPhone shipments slumped in Q1 due to co...</td>\n",
              "      <td>https://appleinsider.com/articles/20/06/01/app...</td>\n",
              "      <td>Mon, 01 Jun 2020 07:00:00 GMT</td>\n",
              "    </tr>\n",
              "    <tr>\n",
              "      <th>4</th>\n",
              "      <td>Apple's iOS 14 again rumored to support all de...</td>\n",
              "      <td>https://appleinsider.com/articles/20/06/01/app...</td>\n",
              "      <td>Mon, 01 Jun 2020 07:00:00 GMT</td>\n",
              "    </tr>\n",
              "    <tr>\n",
              "      <th>...</th>\n",
              "      <td>...</td>\n",
              "      <td>...</td>\n",
              "      <td>...</td>\n",
              "    </tr>\n",
              "    <tr>\n",
              "      <th>1413</th>\n",
              "      <td>Dark blue 'iPhone 12' could help Apple sell up...</td>\n",
              "      <td>https://appleinsider.com/articles/20/08/31/dar...</td>\n",
              "      <td>Mon, 31 Aug 2020 07:00:00 GMT</td>\n",
              "    </tr>\n",
              "    <tr>\n",
              "      <th>1414</th>\n",
              "      <td>Facebook's dispute with Apple over iOS 14 hint...</td>\n",
              "      <td>https://www.warc.com/newsandopinion/news/faceb...</td>\n",
              "      <td>Tue, 01 Sep 2020 07:00:00 GMT</td>\n",
              "    </tr>\n",
              "    <tr>\n",
              "      <th>1415</th>\n",
              "      <td>Apple mistakenly approved a widely used malwar...</td>\n",
              "      <td>https://techcrunch.com/2020/08/31/apple-notari...</td>\n",
              "      <td>Mon, 31 Aug 2020 07:00:00 GMT</td>\n",
              "    </tr>\n",
              "    <tr>\n",
              "      <th>1416</th>\n",
              "      <td>What Apple's landmark court win against the EU...</td>\n",
              "      <td>https://www.cnbc.com/2020/09/01/what-apples-la...</td>\n",
              "      <td>Tue, 01 Sep 2020 07:00:00 GMT</td>\n",
              "    </tr>\n",
              "    <tr>\n",
              "      <th>1417</th>\n",
              "      <td>Apple Watch watchOS 7 update: Best new feature...</td>\n",
              "      <td>https://www.businessinsider.com/apple-watch-wa...</td>\n",
              "      <td>Mon, 31 Aug 2020 07:00:00 GMT</td>\n",
              "    </tr>\n",
              "  </tbody>\n",
              "</table>\n",
              "<p>1418 rows × 3 columns</p>\n",
              "</div>"
            ],
            "text/plain": [
              "                                                  title  ...                      published\n",
              "0     Apple Warns Looters With Stolen iPhones: You A...  ...  Mon, 01 Jun 2020 07:00:00 GMT\n",
              "1     Researcher claims $100,000 for 'Sign in with A...  ...  Mon, 01 Jun 2020 07:00:00 GMT\n",
              "2     Old, outdated Apple products you shouldn't buy...  ...  Mon, 01 Jun 2020 07:00:00 GMT\n",
              "3     Apple iPhone shipments slumped in Q1 due to co...  ...  Mon, 01 Jun 2020 07:00:00 GMT\n",
              "4     Apple's iOS 14 again rumored to support all de...  ...  Mon, 01 Jun 2020 07:00:00 GMT\n",
              "...                                                 ...  ...                            ...\n",
              "1413  Dark blue 'iPhone 12' could help Apple sell up...  ...  Mon, 31 Aug 2020 07:00:00 GMT\n",
              "1414  Facebook's dispute with Apple over iOS 14 hint...  ...  Tue, 01 Sep 2020 07:00:00 GMT\n",
              "1415  Apple mistakenly approved a widely used malwar...  ...  Mon, 31 Aug 2020 07:00:00 GMT\n",
              "1416  What Apple's landmark court win against the EU...  ...  Tue, 01 Sep 2020 07:00:00 GMT\n",
              "1417  Apple Watch watchOS 7 update: Best new feature...  ...  Mon, 31 Aug 2020 07:00:00 GMT\n",
              "\n",
              "[1418 rows x 3 columns]"
            ]
          },
          "metadata": {
            "tags": []
          },
          "execution_count": 178
        }
      ]
    },
    {
      "cell_type": "code",
      "metadata": {
        "colab": {
          "base_uri": "https://localhost:8080/",
          "height": 35
        },
        "id": "6GeJVAZy7Q7j",
        "outputId": "9e74dd8a-3127-4d32-91da-18667d5f2c67"
      },
      "source": [
        "#f = link_to_text(c[10:20])\n",
        "#f\n",
        "f = c[70:80]['link']\n",
        "f[72]"
      ],
      "execution_count": 201,
      "outputs": [
        {
          "output_type": "execute_result",
          "data": {
            "application/vnd.google.colaboratory.intrinsic+json": {
              "type": "string"
            },
            "text/plain": [
              "'https://www.nbcnews.com/business/consumer/want-know-where-all-those-corporate-donations-blm-are-going-n1225371'"
            ]
          },
          "metadata": {
            "tags": []
          },
          "execution_count": 201
        }
      ]
    },
    {
      "cell_type": "code",
      "metadata": {
        "id": "WhZlCL4t9K6G"
      },
      "source": [
        "html_f = reque"
      ],
      "execution_count": null,
      "outputs": []
    },
    {
      "cell_type": "code",
      "metadata": {
        "colab": {
          "base_uri": "https://localhost:8080/"
        },
        "id": "B3h647h-YpUi",
        "outputId": "63de1a00-0c2a-4d8a-d3cc-dd585ddcfb1e"
      },
      "source": [
        "firm_list = ['Mastercard', 'PayPal', 'Visa']\n",
        "def aggregate_news(firms):\n",
        "  for i in range(len(firms)):\n",
        "    df_temp = pd.DataFrame(get_news(firms[i], (2021,1,1), (2021,4,30)))\n",
        "    print(df_temp)\n",
        "    if i == 0:\n",
        "      df = df_temp\n",
        "    else:\n",
        "      df = pd.merge(df, df_temp, how='inner')\n",
        "  \n",
        "  return df\n",
        "\n",
        "df_i = aggregate_news(firm_list)"
      ],
      "execution_count": 171,
      "outputs": [
        {
          "output_type": "stream",
          "text": [
            "                                                title  ...                      published\n",
            "0   This 3-Pack Grows Dividends By 28% Each Year -...  ...  Sat, 02 Jan 2021 08:00:00 GMT\n",
            "1   What’s The Difference Between A Store Card And...  ...  Sun, 03 Jan 2021 08:00:00 GMT\n",
            "2   Petal 1 “No Annual Fee” Visa Credit Card 2021 ...  ...  Mon, 04 Jan 2021 08:00:00 GMT\n",
            "3   SoFi Credit Card 2021 Review – Forbes Advisor ...  ...  Wed, 06 Jan 2021 08:00:00 GMT\n",
            "4   Amazon, Intel Join Other Major Companies Suspe...  ...  Tue, 12 Jan 2021 08:00:00 GMT\n",
            "5   After 98% IPO Pop, 3 Risks To Buying Affirm St...  ...  Thu, 14 Jan 2021 08:00:00 GMT\n",
            "6   Fiat Chrysler, PSA Group merge to create new a...  ...  Sat, 16 Jan 2021 08:00:00 GMT\n",
            "7   The Most Notorious Marketplace For Stolen Cred...  ...  Mon, 18 Jan 2021 08:00:00 GMT\n",
            "8   When Gatekeepers Become Allies, Everybody Wins...  ...  Mon, 25 Jan 2021 08:00:00 GMT\n",
            "9   Two Charts That Explain How Mastercard And Vis...  ...  Wed, 27 Jan 2021 08:00:00 GMT\n",
            "10  Top Bosses At Verizon, Google, Mastercard Form...  ...  Thu, 28 Jan 2021 08:00:00 GMT\n",
            "11  Spirit Free Spirit: The Ultimate Guide – Forbe...  ...  Fri, 29 Jan 2021 08:00:00 GMT\n",
            "12  This Week In Credit Card News: Cryptocurrency,...  ...  Fri, 05 Feb 2021 08:00:00 GMT\n",
            "13  Bitcoin Welcomes Tesla, Mastercard, BNY Mellon...  ...  Fri, 12 Feb 2021 08:00:00 GMT\n",
            "14  Mastercard And Microsoft Among Trending Stocks...  ...  Tue, 23 Feb 2021 08:00:00 GMT\n",
            "15  Bitcoin's biggest players include Tesla, Squar...  ...  Wed, 24 Feb 2021 08:00:00 GMT\n",
            "16  Brands That Engage All 5 Senses Stand Out From...  ...  Wed, 24 Feb 2021 08:00:00 GMT\n",
            "17  Mastercard Stock Is Unlikely To Give Strong Re...  ...  Thu, 25 Feb 2021 08:00:00 GMT\n",
            "18  In His New Book, Mastercard CMO Raja Rajamanna...  ...  Thu, 25 Feb 2021 08:00:00 GMT\n",
            "19  This Week In Credit Card News: Biometric Credi...  ...  Fri, 05 Mar 2021 08:00:00 GMT\n",
            "20  Celebrating International Women’s Day Masterca...  ...  Mon, 08 Mar 2021 08:00:00 GMT\n",
            "21  Lowe's Advantage Card 2021 Review – Forbes Adv...  ...  Mon, 15 Mar 2021 07:00:00 GMT\n",
            "22  U.S. Bank Business Cash Rewards World Elite Ma...  ...  Tue, 16 Mar 2021 07:00:00 GMT\n",
            "23  Mastercard battles return of $19B UK class act...  ...  Wed, 24 Mar 2021 07:00:00 GMT\n",
            "24  Is Chipotle's bitcoin burrito deal bullish for...  ...  Thu, 01 Apr 2021 07:00:00 GMT\n",
            "25  What Is $0 Fraud Liability And Do All Credit C...  ...  Thu, 01 Apr 2021 07:00:00 GMT\n",
            "26  Post-COVID Consumer Behavior: Like It Never Ha...  ...  Fri, 02 Apr 2021 07:00:00 GMT\n",
            "27  12 Fascinating Facts Revealed About American A...  ...  Fri, 02 Apr 2021 07:00:00 GMT\n",
            "28  Transforming Banking And E-Commerce Technology...  ...  Mon, 05 Apr 2021 07:00:00 GMT\n",
            "29  United Quest Card 2021 Review – Forbes Advisor...  ...  Thu, 08 Apr 2021 07:00:00 GMT\n",
            "30  This Week In Credit Card News: Huge Facebook D...  ...  Fri, 09 Apr 2021 07:00:00 GMT\n",
            "31  Orum Raises $21 Million To Speed Up Bank Payme...  ...  Fri, 09 Apr 2021 07:00:00 GMT\n",
            "32  Is Visa Stock A Good Investment At $220? - Forbes  ...  Mon, 12 Apr 2021 07:00:00 GMT\n",
            "33  Avant Credit Card 2021 Review – Forbes Advisor...  ...  Thu, 15 Apr 2021 07:00:00 GMT\n",
            "34  Radisson Rewards Premier Visa 2021 Review - cr...  ...  Thu, 15 Apr 2021 07:00:00 GMT\n",
            "35  Sallie Mae Accelerate Credit Card 2021 Review ...  ...  Fri, 16 Apr 2021 07:00:00 GMT\n",
            "36  How Cryptocurrency Will Transform The Future B...  ...  Sat, 17 Apr 2021 07:00:00 GMT\n",
            "37  United Gateway Card 2021 Review – Forbes Advis...  ...  Mon, 19 Apr 2021 07:00:00 GMT\n",
            "38  30 Under 30 Asia: The Female Entrepreneurs Lea...  ...  Mon, 19 Apr 2021 07:00:00 GMT\n",
            "39  Sonesta World Mastercard 2021 Review – Forbes ...  ...  Tue, 20 Apr 2021 07:00:00 GMT\n",
            "40  WeWork to begin accepting crypto payments - Fo...  ...  Tue, 20 Apr 2021 07:00:00 GMT\n",
            "41  3 Ways To Tell A Company Is Serious About Thei...  ...  Wed, 21 Apr 2021 07:00:00 GMT\n",
            "42  Cryptocurrency In Cross-Border Payments: After...  ...  Wed, 21 Apr 2021 07:00:00 GMT\n",
            "43       PenFed Gold Visa Credit Card Review - Forbes  ...  Wed, 21 Apr 2021 07:00:00 GMT\n",
            "44        21 Credit Cards With Lounge Access - Forbes  ...  Fri, 23 Apr 2021 07:00:00 GMT\n",
            "45  Crypto.com Rewards 2021 Visa – Forbes Advisor ...  ...  Fri, 23 Apr 2021 07:00:00 GMT\n",
            "46  Tesla, Amazon earnings and Federal Reserve dec...  ...  Sun, 25 Apr 2021 07:00:00 GMT\n",
            "47  Bitcoin Blowout: What The Heck Happened Last W...  ...  Sun, 25 Apr 2021 07:00:00 GMT\n",
            "48  Free Spirit Travel World Mastercard Review - F...  ...  Mon, 26 Apr 2021 07:00:00 GMT\n",
            "49  Free Spirit Travel More World Elite Mastercard...  ...  Mon, 26 Apr 2021 07:00:00 GMT\n",
            "50  Kansas City Chiefs’ Sean Culkin Will Become Fi...  ...  Mon, 26 Apr 2021 07:00:00 GMT\n",
            "51  With Debit Cards And Investing For Kids, Finte...  ...  Tue, 27 Apr 2021 07:00:00 GMT\n",
            "52  Mastercard, Winklevoss' Gemini partner on cryp...  ...  Wed, 28 Apr 2021 07:00:00 GMT\n",
            "53  Will Mastercard Stock Beat Consensus In Q1? - ...  ...  Wed, 28 Apr 2021 07:00:00 GMT\n",
            "54  Three Signs That Someone Has Great Management ...  ...  Wed, 28 Apr 2021 07:00:00 GMT\n",
            "55  US stocks trading higher with another busy ear...  ...  Thu, 29 Apr 2021 07:00:00 GMT\n",
            "\n",
            "[56 rows x 3 columns]\n",
            "                                                title  ...                      published\n",
            "0   Bitcoin Just Broke $600 Billion—Will It Soon E...  ...  Sat, 02 Jan 2021 08:00:00 GMT\n",
            "1   SoFi Credit Card 2021 Review – Forbes Advisor ...  ...  Wed, 06 Jan 2021 08:00:00 GMT\n",
            "2   PayPal Credit, WeWork Offer And More: Amex Unv...  ...  Tue, 12 Jan 2021 08:00:00 GMT\n",
            "3   Tech Leads Glassdoor’s 100 Best Places To Work...  ...  Wed, 13 Jan 2021 08:00:00 GMT\n",
            "4   Crypto Is Everywhere, But Should You Invest? -...  ...  Mon, 18 Jan 2021 08:00:00 GMT\n",
            "5   How To Play The Bitcoin Surge Without Taking T...  ...  Thu, 21 Jan 2021 08:00:00 GMT\n",
            "6   Investors Are Now Valuing Stripe At $115 Billi...  ...  Wed, 17 Feb 2021 08:00:00 GMT\n",
            "7   Should You Redeem Your Credit Card Rewards To ...  ...  Fri, 19 Feb 2021 08:00:00 GMT\n",
            "8   With Bitcoin At $50K, Which Crypto Stocks Shou...  ...  Fri, 19 Feb 2021 08:00:00 GMT\n",
            "9   Hedge Funds Clash Over Tech Stocks: SEC Filing...  ...  Mon, 22 Feb 2021 08:00:00 GMT\n",
            "10  Bitcoin's biggest players include Tesla, Squar...  ...  Wed, 24 Feb 2021 08:00:00 GMT\n",
            "11  PayPal Is Moving Aggressively To In-Store Cont...  ...  Mon, 01 Mar 2021 08:00:00 GMT\n",
            "12  Bitcoin Poised For ‘Massive Transformation’ In...  ...  Mon, 01 Mar 2021 08:00:00 GMT\n",
            "13  PayPal’s Stock Fallen 9% In A Week: Are Gains ...  ...  Tue, 02 Mar 2021 08:00:00 GMT\n",
            "14  This Week In Credit Card News: Biometric Credi...  ...  Fri, 05 Mar 2021 08:00:00 GMT\n",
            "15                 What Is Digital Currency? - Forbes  ...  Thu, 01 Apr 2021 07:00:00 GMT\n",
            "16  Harlem Capital, Rare Black-Led VC Firm, Raises...  ...  Wed, 31 Mar 2021 07:00:00 GMT\n",
            "17  America’s Middle Class Must Earn A Living Wage...  ...  Thu, 01 Apr 2021 07:00:00 GMT\n",
            "18  Olaf Carlson-Wee Explains Why DeFi And NFTs Wi...  ...  Thu, 01 Apr 2021 07:00:00 GMT\n",
            "19  Is Chipotle's bitcoin burrito deal bullish for...  ...  Thu, 01 Apr 2021 07:00:00 GMT\n",
            "20  How To Transfer Money From One Bank Account To...  ...  Fri, 02 Apr 2021 07:00:00 GMT\n",
            "21  Decentralized Finance Is Building A New Financ...  ...  Fri, 02 Apr 2021 07:00:00 GMT\n",
            "22  Venture Capitalist Keith Rabois is leading 'bi...  ...  Mon, 05 Apr 2021 07:00:00 GMT\n",
            "23  Sacramento Kings Will Offer Bitcoin As Salary ...  ...  Mon, 05 Apr 2021 07:00:00 GMT\n",
            "24  Digital Transformation In Banking: Banks Have ...  ...  Mon, 05 Apr 2021 07:00:00 GMT\n",
            "25  Over 200 US companies that called out changes ...  ...  Tue, 06 Apr 2021 07:00:00 GMT\n",
            "26  Here Are The Richest Tech Billionaires In 2021...  ...  Tue, 06 Apr 2021 07:00:00 GMT\n",
            "27  Peter Thiel, In Roundtable With Mike Pompeo, C...  ...  Wed, 07 Apr 2021 07:00:00 GMT\n",
            "28  Wayfair, Amazon: Will The Third Round Of Stimu...  ...  Wed, 07 Apr 2021 07:00:00 GMT\n",
            "29  Deshaun Watson, Rich Paul And Mukesh Ambani: T...  ...  Thu, 08 Apr 2021 07:00:00 GMT\n",
            "30  Will PayPal Stock Grow After Its Launch of Cry...  ...  Fri, 09 Apr 2021 07:00:00 GMT\n",
            "31  This Week In Credit Card News: Huge Facebook D...  ...  Fri, 09 Apr 2021 07:00:00 GMT\n",
            "32  Who Will Follow Coinbase's Path To Wall Street...  ...  Sun, 11 Apr 2021 07:00:00 GMT\n",
            "33  Veriff Secures $69 Million Funding To Grow Ide...  ...  Mon, 12 Apr 2021 07:00:00 GMT\n",
            "34  Cryptocurrencies, NFTs & Another Rise Of Block...  ...  Mon, 12 Apr 2021 07:00:00 GMT\n",
            "35  Dogecoin Is Soaring—Near 10 Cents For First Ti...  ...  Tue, 13 Apr 2021 07:00:00 GMT\n",
            "36  Expect More Bitcoin On Balance Sheets, As Payp...  ...  Wed, 14 Apr 2021 07:00:00 GMT\n",
            "37  Will Boycotting Georgia Work? Here’s The Impac...  ...  Wed, 14 Apr 2021 07:00:00 GMT\n",
            "38  China is trying ‘to dominate blockchain,’ Nava...  ...  Wed, 14 Apr 2021 07:00:00 GMT\n",
            "39  Did PayPal Just Make Cryptocurrency The Cash O...  ...  Thu, 15 Apr 2021 07:00:00 GMT\n",
            "40  Chinese DTC Brands Going Global: Interview Wit...  ...  Thu, 15 Apr 2021 07:00:00 GMT\n",
            "41  How Cryptocurrency Will Transform The Future B...  ...  Sat, 17 Apr 2021 07:00:00 GMT\n",
            "42  The Coming Bank-Bitcoin Boom: Americans Want C...  ...  Mon, 19 Apr 2021 07:00:00 GMT\n",
            "43  Cryptocurrency In Cross-Border Payments: After...  ...  Wed, 21 Apr 2021 07:00:00 GMT\n",
            "44  Paycheck Protection Program Must Be Extended A...  ...  Thu, 22 Apr 2021 07:00:00 GMT\n",
            "45             Marrying Mission with Capital - Forbes  ...  Fri, 23 Apr 2021 07:00:00 GMT\n",
            "46  Stocks This Week: Buy PayPal And Idexx Labs - ...  ...  Sun, 25 Apr 2021 07:00:00 GMT\n",
            "47  Why Amazon Is Opening A Hair Salon…And Other S...  ...  Sun, 25 Apr 2021 07:00:00 GMT\n",
            "48  PayPal Crypto Partner Paxos Raises $300 Millio...  ...  Thu, 29 Apr 2021 07:00:00 GMT\n",
            "49  Cameo Adds PayPal As Investor While The Billio...  ...  Thu, 29 Apr 2021 07:00:00 GMT\n",
            "50  Cryptocurrency Tax Data Requests: It's Easier ...  ...  Thu, 29 Apr 2021 07:00:00 GMT\n",
            "\n",
            "[51 rows x 3 columns]\n",
            "                                                title  ...                      published\n",
            "0   The Outlook On H-1B Visas And International St...  ...  Mon, 04 Jan 2021 08:00:00 GMT\n",
            "1   Petal 1 “No Annual Fee” Visa Credit Card 2021 ...  ...  Mon, 04 Jan 2021 08:00:00 GMT\n",
            "2   DHS Publishes Final Rule To End H-1B Visa Lott...  ...  Fri, 08 Jan 2021 08:00:00 GMT\n",
            "3   DOL H-1B Visa Wage Rule: Donald Trump’s Bad Pa...  ...  Wed, 13 Jan 2021 08:00:00 GMT\n",
            "4   DHS And DOL Team Up On H-1B Visas Against IT S...  ...  Mon, 18 Jan 2021 08:00:00 GMT\n",
            "5   The Biden Administration And What Happens To T...  ...  Thu, 21 Jan 2021 08:00:00 GMT\n",
            "6    Harley-Davidson Visa Credit Card Review - Forbes  ...  Sat, 23 Jan 2021 08:00:00 GMT\n",
            "7   Two Charts That Explain How Mastercard And Vis...  ...  Wed, 27 Jan 2021 08:00:00 GMT\n",
            "8   Ending Unlawful Trump H-1B Visa Policies Cause...  ...  Thu, 28 Jan 2021 08:00:00 GMT\n",
            "9   How Americans Can Move To Europe (It's Easier ...  ...  Thu, 28 Jan 2021 08:00:00 GMT\n",
            "10  The Story Of How Trump Officials Tried To End ...  ...  Mon, 01 Feb 2021 08:00:00 GMT\n",
            "11  Visa Reveals Bitcoin And Crypto Banking Roadma...  ...  Wed, 03 Feb 2021 08:00:00 GMT\n",
            "12  This Caribbean island is offering year-long vi...  ...  Wed, 03 Feb 2021 08:00:00 GMT\n",
            "13  WH orders review of SIV visa program for Afgha...  ...  Fri, 05 Feb 2021 08:00:00 GMT\n",
            "14  Diversity Visa Lottery Winners Launch Campaign...  ...  Thu, 11 Feb 2021 08:00:00 GMT\n",
            "15  Will The Golden Visa Boom Continue In 2021? - ...  ...  Fri, 12 Feb 2021 08:00:00 GMT\n",
            "16  Trump DOL Wage Rule Remains Threat To H-1B Vis...  ...  Wed, 17 Feb 2021 08:00:00 GMT\n",
            "17  Visa Pushes Into Payroll With ADP Partnership ...  ...  Fri, 19 Feb 2021 08:00:00 GMT\n",
            "18  Biden Administration Revokes Trump Visa Ban Sa...  ...  Wed, 24 Feb 2021 08:00:00 GMT\n",
            "19  Immigration Bill Shows Need To End Employment-...  ...  Mon, 01 Mar 2021 08:00:00 GMT\n",
            "20  H-1B Visa Ban Not Sustainable Amid Low Compute...  ...  Tue, 02 Mar 2021 08:00:00 GMT\n",
            "21  How USCIS Is Speeding Up Immigration Processin...  ...  Mon, 08 Mar 2021 08:00:00 GMT\n",
            "22  Forget Apps, Russia’s X5 And Visa Have Launche...  ...  Wed, 10 Mar 2021 08:00:00 GMT\n",
            "23  DOL Delays Trump Wage Rule Poised Against Immi...  ...  Fri, 12 Mar 2021 08:00:00 GMT\n",
            "24  Attorneys Question Logic Of Policy Blocking Bu...  ...  Mon, 15 Mar 2021 07:00:00 GMT\n",
            "25  Visa Taps Deeper Into Bitcoin Through New Glob...  ...  Thu, 18 Mar 2021 07:00:00 GMT\n",
            "26  Remote Work Visas Are Transforming The Future ...  ...  Sat, 20 Mar 2021 07:00:00 GMT\n",
            "27  U.S. Chamber Of Commerce Lawsuit Looks To Slay...  ...  Tue, 23 Mar 2021 07:00:00 GMT\n",
            "28  How Buying This Property Qualifies You For A V...  ...  Mon, 29 Mar 2021 07:00:00 GMT\n",
            "29  Bitcoin Payments Are Great, But Stablecoins Ar...  ...  Wed, 31 Mar 2021 07:00:00 GMT\n",
            "30  Wealthy Mexicans jet to US for COVID-19 vaccin...  ...  Wed, 31 Mar 2021 07:00:00 GMT\n",
            "31  What Is $0 Fraud Liability And Do All Credit C...  ...  Thu, 01 Apr 2021 07:00:00 GMT\n",
            "32  The Women Over 50 Proving That Immigration Ref...  ...  Thu, 01 Apr 2021 07:00:00 GMT\n",
            "33  Hotels.com giving $2,741 'tax write off' to Am...  ...  Thu, 01 Apr 2021 07:00:00 GMT\n",
            "34  Research: More International Students, More U....  ...  Tue, 06 Apr 2021 07:00:00 GMT\n",
            "35  Built On Culture: How Abu Dhabi Is Shaping The...  ...  Tue, 06 Apr 2021 07:00:00 GMT\n",
            "36  United Quest Card 2021 Review – Forbes Advisor...  ...  Thu, 08 Apr 2021 07:00:00 GMT\n",
            "37  How To Fund Biden’s Infrastructure Plan Using ...  ...  Thu, 08 Apr 2021 07:00:00 GMT\n",
            "38  Orum Raises $21 Million To Speed Up Bank Payme...  ...  Fri, 09 Apr 2021 07:00:00 GMT\n",
            "39  Lawsuit Challenges Biden Administration Covid-...  ...  Mon, 12 Apr 2021 07:00:00 GMT\n",
            "40  Is Visa Stock A Good Investment At $220? - Forbes  ...  Mon, 12 Apr 2021 07:00:00 GMT\n",
            "41  Wells Fargo Business Platinum 2021 Review – Fo...  ...  Mon, 12 Apr 2021 07:00:00 GMT\n",
            "42  Dominica Launches ‘Work In Nature’ Visa Progra...  ...  Tue, 13 Apr 2021 07:00:00 GMT\n",
            "43  Expect More Bitcoin On Balance Sheets, As Payp...  ...  Wed, 14 Apr 2021 07:00:00 GMT\n",
            "44  Radisson Rewards Premier Visa 2021 Review - cr...  ...  Thu, 15 Apr 2021 07:00:00 GMT\n",
            "45  Avant Credit Card 2021 Review – Forbes Advisor...  ...  Thu, 15 Apr 2021 07:00:00 GMT\n",
            "46  How Cryptocurrency Will Transform The Future B...  ...  Sat, 17 Apr 2021 07:00:00 GMT\n",
            "47  The State Department Can Act To Reduce Visa De...  ...  Mon, 19 Apr 2021 07:00:00 GMT\n",
            "48          US Bank Secured Visa Card Review - Forbes  ...  Tue, 20 Apr 2021 07:00:00 GMT\n",
            "49  WeWork to begin accepting crypto payments - Fo...  ...  Tue, 20 Apr 2021 07:00:00 GMT\n",
            "50       PenFed Gold Visa Credit Card Review - Forbes  ...  Wed, 21 Apr 2021 07:00:00 GMT\n",
            "51  How Do I Renew My U.S. Visa - Time Is Running ...  ...  Thu, 22 Apr 2021 07:00:00 GMT\n",
            "52  The Price Of A Golden Passport: Malta’s Cash-F...  ...  Thu, 22 Apr 2021 07:00:00 GMT\n",
            "53  This Seattle Software Startup Just Raised $25 ...  ...  Thu, 22 Apr 2021 07:00:00 GMT\n",
            "54  Crypto.com Rewards 2021 Visa – Forbes Advisor ...  ...  Fri, 23 Apr 2021 07:00:00 GMT\n",
            "55  Durbin, Grassley hit Biden move to increase H-...  ...  Fri, 23 Apr 2021 07:00:00 GMT\n",
            "56        21 Credit Cards With Lounge Access - Forbes  ...  Fri, 23 Apr 2021 07:00:00 GMT\n",
            "57  Why Stakeholders Want The EB-5 Visa Program Co...  ...  Mon, 26 Apr 2021 07:00:00 GMT\n",
            "58      Earnings Beat On The Cards For Visa? - Forbes  ...  Tue, 27 Apr 2021 07:00:00 GMT\n",
            "\n",
            "[59 rows x 3 columns]\n"
          ],
          "name": "stdout"
        }
      ]
    },
    {
      "cell_type": "code",
      "metadata": {
        "colab": {
          "base_uri": "https://localhost:8080/",
          "height": 77
        },
        "id": "hzlysq64ZmvD",
        "outputId": "9f13ae36-b9e3-4c4e-907b-ff997ad3ee88"
      },
      "source": [
        "df_i"
      ],
      "execution_count": 172,
      "outputs": [
        {
          "output_type": "execute_result",
          "data": {
            "text/html": [
              "<div>\n",
              "<style scoped>\n",
              "    .dataframe tbody tr th:only-of-type {\n",
              "        vertical-align: middle;\n",
              "    }\n",
              "\n",
              "    .dataframe tbody tr th {\n",
              "        vertical-align: top;\n",
              "    }\n",
              "\n",
              "    .dataframe thead th {\n",
              "        text-align: right;\n",
              "    }\n",
              "</style>\n",
              "<table border=\"1\" class=\"dataframe\">\n",
              "  <thead>\n",
              "    <tr style=\"text-align: right;\">\n",
              "      <th></th>\n",
              "      <th>title</th>\n",
              "      <th>link</th>\n",
              "      <th>published</th>\n",
              "    </tr>\n",
              "  </thead>\n",
              "  <tbody>\n",
              "    <tr>\n",
              "      <th>0</th>\n",
              "      <td>How Cryptocurrency Will Transform The Future B...</td>\n",
              "      <td>https://www.forbes.com/sites/mikeswigunski/202...</td>\n",
              "      <td>Sat, 17 Apr 2021 07:00:00 GMT</td>\n",
              "    </tr>\n",
              "  </tbody>\n",
              "</table>\n",
              "</div>"
            ],
            "text/plain": [
              "                                               title  ...                      published\n",
              "0  How Cryptocurrency Will Transform The Future B...  ...  Sat, 17 Apr 2021 07:00:00 GMT\n",
              "\n",
              "[1 rows x 3 columns]"
            ]
          },
          "metadata": {
            "tags": []
          },
          "execution_count": 172
        }
      ]
    },
    {
      "cell_type": "code",
      "metadata": {
        "id": "qZXOd6Th-AqK"
      },
      "source": [
        "def link_to_text(df):\n",
        "  link = df['link']\n",
        "  l = []\n",
        "  for i in range(len(link)):\n",
        "    html = requests.get(link[i]).text\n",
        "    text = fulltext(html)\n",
        "    l.append(text)\n",
        "  \n",
        "  return l\n"
      ],
      "execution_count": 155,
      "outputs": []
    },
    {
      "cell_type": "code",
      "metadata": {
        "id": "NJapnhvTZwF-",
        "colab": {
          "base_uri": "https://localhost:8080/"
        },
        "outputId": "d83f1697-0ad0-458c-bdc4-9edfe138e737"
      },
      "source": [
        "l = link_to_text(df_i)\n",
        "l"
      ],
      "execution_count": 175,
      "outputs": [
        {
          "output_type": "execute_result",
          "data": {
            "text/plain": [
              "['If you haven\\'t quite yet warmed up to the idea of cryptocurrency, you are in good company. Only an estimated 15% of Americans currently own some form of digital currency like Bitcoin or Ethereum. A large portion of these investors has bought in over the past two years. Regardless of your investment stance, there is a strong possibility that cryptocurrency will be impacting you and the future of business transactions.\\n\\nE-commerce concept with big glowing bitcoin circuit at business statistic graphs background. 3D ... [+] Rendering getty\\n\\nMainstream Institutional Adoption Is Already Here\\n\\nThe writing started to be on the wall, perhaps when MicroStrategy CEO Michael Saylor first publicly endorsed Bitcoin. As a publicly traded company dating back to 1989 and known for having lots of capital in excess reserves, Saylor coming out and publicly ringing the alarm of crypto and even calling it \"superior to cash\" indeed raised some eyebrows among institutions and created a snowball effect.\\n\\nTesla Invested $1.5 Billion Into Bitcoin\\n\\nElon Musk, the self-proclaimed \"TechnoKing\" of Tesla, has recently made quite a name for himself in headlines. From being a leader of the meme-coin Dogecoin and likely having a massive hand in pumping Bitcoin after updating his Twitter bio to include Bitcoin and subsequently buying $1.5 billion worth of Bitcoin for Tesla, Musk and Saylor have put a face to the institutional acceptance towards cryptocurrency. Recently, Tesla has also announced that customers can now buy their vehicles using Bitcoin.\\n\\nPaypal Is Also An Early Adopter\\n\\nPayPal has origins as being one of the pioneers in ushering in digital transactions. Due to their history of promoting and simplifying transactions across borders within minutes, it only makes sense for them to jump on the board for cryptocurrency.\\n\\nRecently, they have rolled out the ability for people to both buy and make transactions with cryptocurrencies such as Bitcoin, Ethereum, Litecoin, and Bitcoin Cash. Although, crypto enthusiasts have criticized PayPal for not letting users transfer their coins to a private wallet. Perhaps this is a feature that can come in the future and it’s a step in the right direction.\\n\\nVisa And Mastercard Have Joined The Party\\n\\nTwo of the biggest platforms for making payments worldwide have both publicly endorsed the use of Bitcoin. For example, Visa is allowing transactions with stablecoins on the Ethereum blockchain.\\n\\nMastercard has followed suit and recently announced that their customers would begin transactions with crypto sometime in 2021. With two big payment giants hopping on the train, it seems that the doors are now open for broader mainstream adoption and practical use among business owners in the upcoming years.\\n\\nPaying Employees Could Be More Convenient With Cryptocurrency\\n\\nHaving to handle payroll for a team of employees who live in many different parts of the globe can be a massive hassle as a remote team employer. Imagine having to convert your dollars into dozens of international currencies to pay your employees.\\n\\nMaking cross-border transactions is not near as much of a burden as the fees for changing the currency. With cryptocurrency, instant transactions across borders with minimal-to-no fees are now a reality. Since Bitcoin transactions are public, all parties can view the transaction details and immediately know the status. Cutting out banks saves both the employer and employee money and can be a big win-win for the workforce.\\n\\nCrowdfunding And Raising Capital Is More Transparent\\n\\nPeople love to use online platforms for raising money. This way, fundraising is done transparently. Also, it opens up the ability for people to publicly ask for funds and explain why. In the future, platforms like these will probably continue to be used.\\n\\nHowever, crowdfunding with a dedicated blockchain wallet will keep the total amount of donations open to the public. In the same manner, it will allow the fundraisers to avoid fees from third-party platforms without sacrificing the donors\\' trust. A crypto wallet also allows all parties to see how much donations have come in.\\n\\nCrypto As A Viable Form Of Payment\\n\\nOne of the main criticisms given towards crypto is that there is no inherent value. Indeed, the value it has is the value that the world provides it. However, the same could be said for worldwide fiat currencies that have long strayed away from the gold standard.\\n\\nStrong advocates for holding gold knew for years that extreme printing of money would lead to a devalued currency. Since gold has a relatively finite supply and has historically been seen as valuable, they use it as a hedge against inflation and a means of keeping the government out of their bank accounts.\\n\\nInterestingly, some of the staunchest cryptocurrency users hold coins for many reasons that people hold gold. The main difference between the two is the very young age of cryptocurrency, having no proven history of long-term value.\\n\\nWhat crypto does do well is the ability to keep your coins secure using an offline wallet and having a finite supply that encourages exponential growth of value as demand increases. With the ability to instantly transfer coins anywhere globally, the change in demand and overall value of cryptocurrency could make it a popular means of payment in the business world and peer-to-peer.\\n\\nUsing Crypto For Business Equity\\n\\nOne of the popular trends we see in the modern business world is giving early employees shares of the company profits. Considering the vast growth of crypto in the past decade, providing new employees a “company” cryptocurrency as equity shares could be a huge new trend.\\n\\nIn any case, it will be interesting to continue monitoring the future of cryptocurrency unfold. What we could see happen is a revolution in the financial field or a colossal disaster for the investors who have since made a fortune off the growth of crypto.']"
            ]
          },
          "metadata": {
            "tags": []
          },
          "execution_count": 175
        }
      ]
    },
    {
      "cell_type": "code",
      "metadata": {
        "colab": {
          "base_uri": "https://localhost:8080/"
        },
        "id": "fcTEoRq5jMLA",
        "outputId": "7e162e26-8292-4db4-87bb-13e51ec8bc39"
      },
      "source": [
        "sentences_compare = tokenize.sent_tokenize(l[0])\n",
        "arg_compare = argument_generation(sentences_compare, firm_list)\n",
        "arg_compare"
      ],
      "execution_count": 174,
      "outputs": [
        {
          "output_type": "execute_result",
          "data": {
            "text/plain": [
              "{'Mastercard': ['Visa And Mastercard Have Joined The Party\\n\\nTwo of the biggest platforms for making payments worldwide have both publicly endorsed the use of Bitcoin.',\n",
              "  'Mastercard has followed suit and recently announced that their customers would begin transactions with crypto sometime in 2021.'],\n",
              " 'PayPal': ['Paypal Is Also An Early Adopter\\n\\nPayPal has origins as being one of the pioneers in ushering in digital transactions.',\n",
              "  'Although, crypto enthusiasts have criticized PayPal for not letting users transfer their coins to a private wallet.'],\n",
              " 'Visa': ['Visa And Mastercard Have Joined The Party\\n\\nTwo of the biggest platforms for making payments worldwide have both publicly endorsed the use of Bitcoin.',\n",
              "  'For example, Visa is allowing transactions with stablecoins on the Ethereum blockchain.']}"
            ]
          },
          "metadata": {
            "tags": []
          },
          "execution_count": 174
        }
      ]
    },
    {
      "cell_type": "code",
      "metadata": {
        "colab": {
          "base_uri": "https://localhost:8080/"
        },
        "id": "uO5j5YuggfDj",
        "outputId": "2802a3a6-bfc2-481d-e2d6-5710068571d2"
      },
      "source": [
        "sentences = tokenize.sent_tokenize(l[2])\n",
        "arg_test = argument_generation(sentences, firm_list)\n",
        "m = argument_split_target(arg_test, firm_list)\n",
        "m"
      ],
      "execution_count": 168,
      "outputs": [
        {
          "output_type": "execute_result",
          "data": {
            "text/plain": [
              "{'AMD': [{'target': 'AMD',\n",
              "   'target_left': ' ',\n",
              "   'target_right': ' (NASDAQ: AMD) has gone from underdog to having to the fastest processors available for gaming and content creators, but there are signs Intel has something fast in the works.'},\n",
              "  {'target': 'AMD',\n",
              "   'target_left': \"It's 11th Gen desktop processors, which are expected to land on shelves in the next month or two, are beating \",\n",
              "   'target_right': \"'s fastest Zen 3 Ryzen 5000 processors in the PassMark benchmark.\"},\n",
              "  {'target': 'AMD',\n",
              "   'target_left': \"Firstly, that Intel's new processors are likely to be faster in single-threaded and lightly-threaded applications than \",\n",
              "   'target_right': \"'s latest Ryzen CPUs.\"},\n",
              "  {'target': 'AMD',\n",
              "   'target_left': 'This means that ',\n",
              "   'target_right': ' will retain a significant lead in multi-threaded performance on the mainstream desktop PC and it remains to be seen if Intel will counter this with future architectures or a renewed high-end desktop platform later this year.'}],\n",
              " 'Intel': [{'target': 'Intel',\n",
              "   'target_left': 'AMD (NASDAQ: AMD) has gone from underdog to having to the fastest processors available for gaming and content creators, but there are signs ',\n",
              "   'target_right': ' has something fast in the works.'},\n",
              "  {'target': 'Intel',\n",
              "   'target_left': 'The latest benchmarks to be posted in the PassMark database point at ',\n",
              "   'target_right': ' having a lead in single ... [+] thread performance www.cpubenchmark.net\\n\\nThe above tells us two things.'},\n",
              "  {'target': 'Intel',\n",
              "   'target_left': 'Firstly, that ',\n",
              "   'target_right': \"'s new processors are likely to be faster in single-threaded and lightly-threaded applications than AMD's latest Ryzen CPUs.\"},\n",
              "  {'target': 'Intel',\n",
              "   'target_left': 'This is significant as it means that the work ',\n",
              "   'target_right': ' has done to include an improved architecture as well as slightly higher frequencies has had a noticeable impact.'},\n",
              "  {'target': 'Intel',\n",
              "   'target_left': ' ',\n",
              "   'target_right': ' is still using a 14nm manufacturing process here, but improvements in performance can come from areas other than lithography and frequency.'},\n",
              "  {'target': 'Intel',\n",
              "   'target_left': 'Secondly, we get more of an idea about these improvements looking at the results from ',\n",
              "   'target_right': \"'s 10th Gen CPUs lower in the graph such as the Core i9-10900K.\"},\n",
              "  {'target': 'Intel',\n",
              "   'target_left': 'This means that AMD will retain a significant lead in multi-threaded performance on the mainstream desktop PC and it remains to be seen if ',\n",
              "   'target_right': ' will counter this with future architectures or a renewed high-end desktop platform later this year.'},\n",
              "  {'target': 'Intel',\n",
              "   'target_left': \"I'’ll be reviewing \",\n",
              "   'target_right': \"'s new CPUs when they arrivce as well as looking at some of the interesting new Z590 motherboards so follow me here at Forbes, YouTube, Twitter, Facebook, Instagram or Reddit for more PC hardware news and reviews.\"}]}"
            ]
          },
          "metadata": {
            "tags": []
          },
          "execution_count": 168
        }
      ]
    },
    {
      "cell_type": "code",
      "metadata": {
        "colab": {
          "base_uri": "https://localhost:8080/"
        },
        "id": "PGI1cjnQI4_7",
        "outputId": "e646e0a3-a974-4585-f7ab-c1f8e78d8bed"
      },
      "source": [
        "html_test = requests.get('https://9to5mac.com/2016/03/31/foxconn-sharp-apple-samsung-oled/').text\n",
        "text_test = fulltext(html_test)\n",
        "firm_test = ['Apple', 'Samsung', 'Foxconn', 'Sharp']\n",
        "sentences_test = tokenize.sent_tokenize(text_test)\n",
        "test = argument_generation(sentences_test, firm_test)\n",
        "from_index = test['Apple'][0].find(firm_test[0])\n",
        "\n",
        "def argument_split_target(arguments, firms):\n",
        "  for firm in firms:\n",
        "    argument = arguments[firm]\n",
        "    for i in range(len(argument)):\n",
        "      from_index = argument[i].find(firm)\n",
        "      argument[i] = {'target': argument[i][from_index: from_index + len(firm)], 'target_left': argument[i][:from_index], 'target_right': argument[i][from_index + len(firm):]}\n",
        "      if argument[i]['target_left'] == '':\n",
        "        argument[i]['target_left'] = ' '\n",
        "      if argument[i]['target_right'] == '':\n",
        "        argument[i]['target_right'] = ' '\n",
        "\n",
        "    arguments[firm] = argument\n",
        "  return arguments\n",
        "\n",
        "m = argument_split_target(test, firm_test)      \n",
        "m                                                                                                                              "
      ],
      "execution_count": null,
      "outputs": [
        {
          "output_type": "execute_result",
          "data": {
            "text/plain": [
              "{'Apple': [{'target': 'Apple',\n",
              "   'target_left': 'Foxconn’s acquisition of Japanese display-maker Sharp looks likely to help ',\n",
              "   'target_right': ' reduce its dependence on Samsung as it prepares for a transition from LCD to OLED displays.'},\n",
              "  {'target': 'Apple',\n",
              "   'target_left': 'The WSJ notes that Samsung currently makes 95% of the world’s OLED displays, and that ',\n",
              "   'target_right': ' always aims to have multiple sources of components to reduce risk and strengthen its negotiating position.'},\n",
              "  {'target': 'Apple',\n",
              "   'target_left': ' ',\n",
              "   'target_right': ' currently used OLED displays only in the Apple Watch, but is widely expected to switch to the newer display technology in the iPhone in either 2017 or 2018.'},\n",
              "  {'target': 'Apple',\n",
              "   'target_left': 'While Samsung looks set to be ',\n",
              "   'target_right': '’s lead supplier, that’s something the iPhone maker will want to change over time.'},\n",
              "  {'target': 'Apple',\n",
              "   'target_left': 'Check out 9to5Mac on YouTube for more ',\n",
              "   'target_right': ' news:'}],\n",
              " 'Foxconn': [{'target': 'Foxconn',\n",
              "   'target_left': ' ',\n",
              "   'target_right': '’s acquisition of Japanese display-maker Sharp looks likely to help Apple reduce its dependence on Samsung as it prepares for a transition from LCD to OLED displays.'},\n",
              "  {'target': 'Foxconn',\n",
              "   'target_left': 'While Sharp doesn’t currently make OLED screens, it will almost certainly start doing so under ',\n",
              "   'target_right': '’s ownership.'},\n",
              "  {'target': 'Foxconn',\n",
              "   'target_left': ' ',\n",
              "   'target_right': ' has long been seeking to expand its role in iPhone production from low-margin assembly work into the more profitable component business.'}],\n",
              " 'Samsung': [{'target': 'Samsung',\n",
              "   'target_left': 'Foxconn’s acquisition of Japanese display-maker Sharp looks likely to help Apple reduce its dependence on ',\n",
              "   'target_right': ' as it prepares for a transition from LCD to OLED displays.'},\n",
              "  {'target': 'Samsung',\n",
              "   'target_left': 'The WSJ notes that ',\n",
              "   'target_right': ' currently makes 95% of the world’s OLED displays, and that Apple always aims to have multiple sources of components to reduce risk and strengthen its negotiating position.'},\n",
              "  {'target': 'Samsung',\n",
              "   'target_left': 'While ',\n",
              "   'target_right': ' looks set to be Apple’s lead supplier, that’s something the iPhone maker will want to change over time.'}],\n",
              " 'Sharp': [{'target': 'Sharp',\n",
              "   'target_left': 'Foxconn’s acquisition of Japanese display-maker ',\n",
              "   'target_right': ' looks likely to help Apple reduce its dependence on Samsung as it prepares for a transition from LCD to OLED displays.'},\n",
              "  {'target': 'Sharp',\n",
              "   'target_left': 'While ',\n",
              "   'target_right': ' doesn’t currently make OLED screens, it will almost certainly start doing so under Foxconn’s ownership.'},\n",
              "  {'target': 'Sharp',\n",
              "   'target_left': ' ',\n",
              "   'target_right': ' can springboard off its existing technology to develop the screens, says Alberto Moel, a technology analyst for Bernstein Research.'}]}"
            ]
          },
          "metadata": {
            "tags": []
          },
          "execution_count": 55
        }
      ]
    },
    {
      "cell_type": "code",
      "metadata": {
        "id": "ElfGBWw1_Zoy"
      },
      "source": [
        "firms = ['Apple','Samsung', 'Intel']\n",
        "def argument_generation(sentences, firms):\n",
        "  arguments = {}\n",
        "  for firm in firms:\n",
        "    arguments[firm] = []\n",
        "  for sentence in sentences:\n",
        "    for firm in firms:\n",
        "      if firm in sentence:\n",
        "        arguments[firm].append(sentence)\n",
        "      \n",
        "      \n",
        "  return arguments    \n",
        "    \n",
        "\n",
        "b = argument_generation(sentences, firms)"
      ],
      "execution_count": null,
      "outputs": []
    },
    {
      "cell_type": "code",
      "metadata": {
        "colab": {
          "base_uri": "https://localhost:8080/"
        },
        "id": "TN9q44s9ZCs6",
        "outputId": "894c03c8-1f97-4333-8f5a-5525621b1327"
      },
      "source": [
        "b"
      ],
      "execution_count": null,
      "outputs": [
        {
          "output_type": "execute_result",
          "data": {
            "text/plain": [
              "{'Apple': ['There are also increasing rumors of a folding iPhone from Apple, which first surfaced last year.',\n",
              "  'It makes sense that Apple, if it really is considering folding the iPhone, would opt for this design.',\n",
              "  'A phone like the larger Z Fold would turn an iPhone into an iPad, and Apple has spent the past few years working hard to differentiate those two products.',\n",
              "  'Bring it, Apple!'],\n",
              " 'Intel': ['Like most folding-screen devices, it’s not for the faint of wallet, with a painful $2,499 price tag for 8 GB of memory, 256 GB of storage and an Intel Core-i5 processor.'],\n",
              " 'Samsung': ['But manufacturers like Samsung, who so far is the leader in this very narrow space, are intent on developing them.',\n",
              "  'Into this landscape last month arrived rumors of yet another Samsung foldable phone.',\n",
              "  'Samsung will reportedly add to that lineup a third phone with a “double fold” design.',\n",
              "  'Exactly what this will look like is unclear, though Samsung has been rumored for some time to be working on – and even showed cartoon-like renderings some time ago – of a trifold phone.',\n",
              "  'The latest gossip focuses on a vertical-fold device similar to Samsung’s Z Flip.',\n",
              "  'I’ve had hands-on time with both of Samsung’s phones, and the Z Flip seems to be the most practical and most svelte (though that’s being somewhat kind).']}"
            ]
          },
          "metadata": {
            "tags": []
          },
          "execution_count": 30
        }
      ]
    },
    {
      "cell_type": "code",
      "metadata": {
        "colab": {
          "base_uri": "https://localhost:8080/"
        },
        "id": "4UMeyXVFxl89",
        "outputId": "2d55ab65-0cad-447f-b752-2f18864608e7"
      },
      "source": [
        "snp = pd.read_csv('https://raw.githubusercontent.com/datasets/s-and-p-500-companies/master/data/constituents.csv')\n",
        "snp['Name']"
      ],
      "execution_count": null,
      "outputs": [
        {
          "output_type": "execute_result",
          "data": {
            "text/plain": [
              "0               3M Company\n",
              "1          A.O. Smith Corp\n",
              "2      Abbott Laboratories\n",
              "3              AbbVie Inc.\n",
              "4                  Abiomed\n",
              "              ...         \n",
              "500        Yum! Brands Inc\n",
              "501     Zebra Technologies\n",
              "502          Zimmer Biomet\n",
              "503          Zions Bancorp\n",
              "504                 Zoetis\n",
              "Name: Name, Length: 505, dtype: object"
            ]
          },
          "metadata": {
            "tags": []
          },
          "execution_count": 16
        }
      ]
    },
    {
      "cell_type": "code",
      "metadata": {
        "colab": {
          "base_uri": "https://localhost:8080/",
          "height": 748
        },
        "id": "WrnJh5Bp-4OV",
        "outputId": "2b92500d-a9e1-4a38-a14e-1c0b15fb708d"
      },
      "source": [
        "snp = pd.read_csv('https://raw.githubusercontent.com/datasets/s-and-p-500-companies/master/data/constituents.csv')\n",
        "\n",
        "for i in range(4):\n",
        "  df_temp = pd.DataFrame(get_news(snp['Name'][i]))\n",
        "  print(df_temp)\n",
        "  if i == 0:\n",
        "    df = df_temp\n",
        "  else:\n",
        "    df = pd.merge(df, df_temp, how='outer')\n",
        "\n",
        "df  \n",
        "\n"
      ],
      "execution_count": null,
      "outputs": [
        {
          "output_type": "stream",
          "text": [
            "                                               title  ...                      published\n",
            "0  Arizona Gov. Ducey lifts COVID-19 rules after ...  ...  Fri, 26 Mar 2021 07:00:00 GMT\n",
            "1  Texas COVID numbers decrease 17 days after mas...  ...  Sat, 27 Mar 2021 07:00:00 GMT\n",
            "2  Iran tankers with 3M barrels of crude oil head...  ...  Tue, 06 Apr 2021 07:00:00 GMT\n",
            "3  Inside BLM co-founder Patrisse Khan-Cullors’ m...  ...  Sat, 10 Apr 2021 07:00:00 GMT\n",
            "4  Matthew Wolff disqualified from Masters after ...  ...  Sat, 10 Apr 2021 07:00:00 GMT\n",
            "5  ESG And The Future Of Work: 3 Strategies Every...  ...  Mon, 19 Apr 2021 07:00:00 GMT\n",
            "\n",
            "[6 rows x 3 columns]\n",
            "                                               title  ...                      published\n",
            "0  JPMorgan Billionaire Dimon Cheers Upcoming ‘Bo...  ...  Wed, 07 Apr 2021 07:00:00 GMT\n",
            "\n",
            "[1 rows x 3 columns]\n",
            "                                               title  ...                      published\n",
            "0  Forbes Meet The 40 New Billionaires Who Got Ri...  ...  Tue, 06 Apr 2021 07:00:00 GMT\n",
            "1  Top Stocks To Buy This Month Amid Optimistic M...  ...  Wed, 07 Apr 2021 07:00:00 GMT\n",
            "2  Here’s Why We Think Abbott Stock Will Rise Pos...  ...  Fri, 16 Apr 2021 07:00:00 GMT\n",
            "\n",
            "[3 rows x 3 columns]\n",
            "                                               title  ...                      published\n",
            "0  Top Stocks To Buy This Month Amid Optimistic M...  ...  Wed, 07 Apr 2021 07:00:00 GMT\n",
            "\n",
            "[1 rows x 3 columns]\n"
          ],
          "name": "stdout"
        },
        {
          "output_type": "execute_result",
          "data": {
            "text/html": [
              "<div>\n",
              "<style scoped>\n",
              "    .dataframe tbody tr th:only-of-type {\n",
              "        vertical-align: middle;\n",
              "    }\n",
              "\n",
              "    .dataframe tbody tr th {\n",
              "        vertical-align: top;\n",
              "    }\n",
              "\n",
              "    .dataframe thead th {\n",
              "        text-align: right;\n",
              "    }\n",
              "</style>\n",
              "<table border=\"1\" class=\"dataframe\">\n",
              "  <thead>\n",
              "    <tr style=\"text-align: right;\">\n",
              "      <th></th>\n",
              "      <th>title</th>\n",
              "      <th>link</th>\n",
              "      <th>published</th>\n",
              "    </tr>\n",
              "  </thead>\n",
              "  <tbody>\n",
              "    <tr>\n",
              "      <th>0</th>\n",
              "      <td>Arizona Gov. Ducey lifts COVID-19 rules after ...</td>\n",
              "      <td>https://www.foxnews.com/politics/arizona-gov-d...</td>\n",
              "      <td>Fri, 26 Mar 2021 07:00:00 GMT</td>\n",
              "    </tr>\n",
              "    <tr>\n",
              "      <th>1</th>\n",
              "      <td>Texas COVID numbers decrease 17 days after mas...</td>\n",
              "      <td>https://www.foxnews.com/us/texas-covid-numbers...</td>\n",
              "      <td>Sat, 27 Mar 2021 07:00:00 GMT</td>\n",
              "    </tr>\n",
              "    <tr>\n",
              "      <th>2</th>\n",
              "      <td>Iran tankers with 3M barrels of crude oil head...</td>\n",
              "      <td>https://www.foxnews.com/world/iran-tankers-hea...</td>\n",
              "      <td>Tue, 06 Apr 2021 07:00:00 GMT</td>\n",
              "    </tr>\n",
              "    <tr>\n",
              "      <th>3</th>\n",
              "      <td>Inside BLM co-founder Patrisse Khan-Cullors’ m...</td>\n",
              "      <td>https://www.foxbusiness.com/lifestyle/inside-b...</td>\n",
              "      <td>Sat, 10 Apr 2021 07:00:00 GMT</td>\n",
              "    </tr>\n",
              "    <tr>\n",
              "      <th>4</th>\n",
              "      <td>Matthew Wolff disqualified from Masters after ...</td>\n",
              "      <td>https://www.foxnews.com/sports/matthew-wolff-d...</td>\n",
              "      <td>Sat, 10 Apr 2021 07:00:00 GMT</td>\n",
              "    </tr>\n",
              "    <tr>\n",
              "      <th>5</th>\n",
              "      <td>ESG And The Future Of Work: 3 Strategies Every...</td>\n",
              "      <td>https://www.forbes.com/sites/jasonwingard/2021...</td>\n",
              "      <td>Mon, 19 Apr 2021 07:00:00 GMT</td>\n",
              "    </tr>\n",
              "    <tr>\n",
              "      <th>6</th>\n",
              "      <td>JPMorgan Billionaire Dimon Cheers Upcoming ‘Bo...</td>\n",
              "      <td>https://www.forbes.com/sites/jonathanponciano/...</td>\n",
              "      <td>Wed, 07 Apr 2021 07:00:00 GMT</td>\n",
              "    </tr>\n",
              "    <tr>\n",
              "      <th>7</th>\n",
              "      <td>Forbes Meet The 40 New Billionaires Who Got Ri...</td>\n",
              "      <td>https://www.forbes.com/sites/giacomotognini/20...</td>\n",
              "      <td>Tue, 06 Apr 2021 07:00:00 GMT</td>\n",
              "    </tr>\n",
              "    <tr>\n",
              "      <th>8</th>\n",
              "      <td>Top Stocks To Buy This Month Amid Optimistic M...</td>\n",
              "      <td>https://www.forbes.com/sites/qai/2021/04/07/to...</td>\n",
              "      <td>Wed, 07 Apr 2021 07:00:00 GMT</td>\n",
              "    </tr>\n",
              "    <tr>\n",
              "      <th>9</th>\n",
              "      <td>Here’s Why We Think Abbott Stock Will Rise Pos...</td>\n",
              "      <td>https://www.forbes.com/sites/greatspeculations...</td>\n",
              "      <td>Fri, 16 Apr 2021 07:00:00 GMT</td>\n",
              "    </tr>\n",
              "  </tbody>\n",
              "</table>\n",
              "</div>"
            ],
            "text/plain": [
              "                                               title  ...                      published\n",
              "0  Arizona Gov. Ducey lifts COVID-19 rules after ...  ...  Fri, 26 Mar 2021 07:00:00 GMT\n",
              "1  Texas COVID numbers decrease 17 days after mas...  ...  Sat, 27 Mar 2021 07:00:00 GMT\n",
              "2  Iran tankers with 3M barrels of crude oil head...  ...  Tue, 06 Apr 2021 07:00:00 GMT\n",
              "3  Inside BLM co-founder Patrisse Khan-Cullors’ m...  ...  Sat, 10 Apr 2021 07:00:00 GMT\n",
              "4  Matthew Wolff disqualified from Masters after ...  ...  Sat, 10 Apr 2021 07:00:00 GMT\n",
              "5  ESG And The Future Of Work: 3 Strategies Every...  ...  Mon, 19 Apr 2021 07:00:00 GMT\n",
              "6  JPMorgan Billionaire Dimon Cheers Upcoming ‘Bo...  ...  Wed, 07 Apr 2021 07:00:00 GMT\n",
              "7  Forbes Meet The 40 New Billionaires Who Got Ri...  ...  Tue, 06 Apr 2021 07:00:00 GMT\n",
              "8  Top Stocks To Buy This Month Amid Optimistic M...  ...  Wed, 07 Apr 2021 07:00:00 GMT\n",
              "9  Here’s Why We Think Abbott Stock Will Rise Pos...  ...  Fri, 16 Apr 2021 07:00:00 GMT\n",
              "\n",
              "[10 rows x 3 columns]"
            ]
          },
          "metadata": {
            "tags": []
          },
          "execution_count": 270
        }
      ]
    },
    {
      "cell_type": "markdown",
      "metadata": {
        "id": "t_Mppsq9d17u"
      },
      "source": [
        ""
      ]
    },
    {
      "cell_type": "code",
      "metadata": {
        "colab": {
          "base_uri": "https://localhost:8080/"
        },
        "id": "wUX_9tY0TJzf",
        "outputId": "406adb4c-7b73-4261-a790-e36f7ecf445a"
      },
      "source": [
        "len(domain[0])"
      ],
      "execution_count": null,
      "outputs": [
        {
          "output_type": "execute_result",
          "data": {
            "text/plain": [
              "18"
            ]
          },
          "metadata": {
            "tags": []
          },
          "execution_count": 171
        }
      ]
    },
    {
      "cell_type": "code",
      "metadata": {
        "id": "9eci3PWHTKgd"
      },
      "source": [
        ""
      ],
      "execution_count": null,
      "outputs": []
    }
  ]
}